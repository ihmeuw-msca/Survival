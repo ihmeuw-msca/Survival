{
 "cells": [
  {
   "cell_type": "markdown",
   "metadata": {},
   "source": [
    "# Survival Analysis Simple Example"
   ]
  },
  {
   "cell_type": "code",
   "execution_count": null,
   "metadata": {},
   "outputs": [],
   "source": [
    "import numpy as np\n",
    "import pandas as pd\n",
    "import matplotlib.pyplot as plt\n",
    "from survival import MIRModel"
   ]
  },
  {
   "cell_type": "markdown",
   "metadata": {},
   "source": [
    "## Load data"
   ]
  },
  {
   "cell_type": "code",
   "execution_count": null,
   "metadata": {},
   "outputs": [],
   "source": [
    "df = pd.read_csv('../data/SEER_thyroid_survival_data_20200228.csv')"
   ]
  },
  {
   "cell_type": "code",
   "execution_count": null,
   "metadata": {},
   "outputs": [],
   "source": [
    "# subset the useful rows and columns for the fit\n",
    "selected_columns = [\n",
    "    'Year',\n",
    "    'Deaths',\n",
    "    'Cases',\n",
    "    'b'\n",
    "]\n",
    "df_sub = df[\n",
    "    (df['Summary Interval'] == 0) &\n",
    "    (df['Year'] != 0)\n",
    "][selected_columns].rename(columns={'b': 'other_mortality'})"
   ]
  },
  {
   "cell_type": "markdown",
   "metadata": {},
   "source": [
    "## Compute survival rate"
   ]
  },
  {
   "cell_type": "code",
   "execution_count": null,
   "metadata": {},
   "outputs": [],
   "source": [
    "disease_period = 7\n",
    "num_years = 5"
   ]
  },
  {
   "cell_type": "code",
   "execution_count": null,
   "metadata": {},
   "outputs": [],
   "source": [
    "model = MIRModel(df_sub['Deaths']/df_sub['Cases'],\n",
    "                 df_sub['other_mortality'],\n",
    "                 disease_period=disease_period)\n",
    "model.compute_excess_mortality()\n",
    "survival_rate = model.get_survival_rate(num_years=num_years)"
   ]
  },
  {
   "cell_type": "code",
   "execution_count": null,
   "metadata": {},
   "outputs": [],
   "source": [
    "df_sub['excess_mortality'] = model.excess_mortality\n",
    "df_sub['abs_survival_rate'] = survival_rate['abs']\n",
    "df_sub['rel_survival_rate'] = survival_rate['rel']\n",
    "df_sub.sort_values('Year', inplace=True)"
   ]
  },
  {
   "cell_type": "code",
   "execution_count": null,
   "metadata": {},
   "outputs": [],
   "source": [
    "df_sub.head()"
   ]
  },
  {
   "cell_type": "markdown",
   "metadata": {},
   "source": [
    "## Visualize result"
   ]
  },
  {
   "cell_type": "code",
   "execution_count": null,
   "metadata": {},
   "outputs": [],
   "source": [
    "# subset the data for comparison\n",
    "df_compare = df[\n",
    "    (df['interval'] == num_years) &\n",
    "    (df['Year'] != 0)\n",
    "][['Year', 'Observed']]\n",
    "\n",
    "df_compare[df_compare['Observed'] == '.'] = np.nan\n",
    "df_compare.sort_values('Year', inplace=True)"
   ]
  },
  {
   "cell_type": "code",
   "execution_count": null,
   "metadata": {},
   "outputs": [],
   "source": [
    "fig, ax = plt.subplots(1, figsize=(10, 10))\n",
    "\n",
    "true = df_compare['Observed'].to_numpy().astype(np.float)/100.0\n",
    "predicted = df_sub['abs_survival_rate'].to_numpy()\n",
    "\n",
    "ax.scatter(true, predicted, marker='.')\n",
    "for i, txt in enumerate(df_compare['Year'].to_numpy()):\n",
    "    ax.annotate(txt, (true[i], predicted[i]), fontsize=7)\n",
    "\n",
    "# plot settings\n",
    "ax.set_xlabel(f'true {num_years} year survival rate')\n",
    "ax.set_ylabel(f'predicted {num_years} year survival rate from M/I')\n",
    "ax.set_aspect('equal')\n",
    "\n",
    "r_min = min(true[~np.isnan(true)].min(), predicted[~np.isnan(predicted)].min())\n",
    "r_max = max(true[~np.isnan(true)].max(), predicted[~np.isnan(predicted)].max())\n",
    "r_len = r_max - r_min\n",
    "ax.set_xlim(r_min - r_len*0.1, r_max + r_len*0.1)\n",
    "ax.set_ylim(r_min - r_len*0.1, r_max + r_len*0.1)\n",
    "\n",
    "ax.plot([r_min, r_max], [r_min, r_max], '--k', linewidth=0.7)"
   ]
  },
  {
   "cell_type": "code",
   "execution_count": null,
   "metadata": {},
   "outputs": [],
   "source": []
  }
 ],
 "metadata": {
  "kernelspec": {
   "display_name": "Python 3",
   "language": "python",
   "name": "python3"
  },
  "language_info": {
   "codemirror_mode": {
    "name": "ipython",
    "version": 3
   },
   "file_extension": ".py",
   "mimetype": "text/x-python",
   "name": "python",
   "nbconvert_exporter": "python",
   "pygments_lexer": "ipython3",
   "version": "3.7.7"
  }
 },
 "nbformat": 4,
 "nbformat_minor": 4
}

{
 "cells": [
  {
   "cell_type": "code",
   "execution_count": null,
   "metadata": {
    "collapsed": true
   },
   "outputs": [],
   "source": [
    "import numpy as np\n",
    "import pandas as pd\n",
    "import matplotlib.pyplot as plt\n",
    "from survival import MIRModel"
   ]
  },
  {
   "cell_type": "code",
   "execution_count": null,
   "metadata": {
    "collapsed": true
   },
   "outputs": [],
   "source": [
    "# INPUT DATA\n",
    "input_file = '/home/j/temp/fed1/input_file_with_other_mortality_calculated_from_numbers.csv'\n",
    "chunks = pd.read_csv(input_file, chunksize=100000)\n",
    "df = pd.concat(chunks)\n",
    "df = df.rename(columns={'mi_ratio': 'mir'})\n",
    "df = df[df['mir'] <= 1]"
   ]
  },
  {
   "cell_type": "code",
   "execution_count": null,
   "metadata": {
    "collapsed": false
   },
   "outputs": [],
   "source": [
    "# CHECK input data columns, need 'Observed' in addition to 'mir', 'other_mortality' columns\n",
    "#df.head()\n",
    "#list(df.columns)"
   ]
  },
  {
   "cell_type": "markdown",
   "metadata": {},
   "source": [
    "### Functions to Compute MSE and Obtain an Optimized Disease Period"
   ]
  },
  {
   "cell_type": "code",
   "execution_count": null,
   "metadata": {
    "collapsed": true
   },
   "outputs": [],
   "source": [
    "def compute_mse(disease_period, num_years, df):\n",
    "    model = MIRModel(df['mir'],\n",
    "                 df['other_mortality'],\n",
    "                 disease_period=disease_period)\n",
    "    model.compute_excess_mortality()\n",
    "    survival_rate = model.get_survival_rate(num_years=num_years)\n",
    "    df['excess_mortality'] = model.excess_mortality\n",
    "    df['abs_survival_rate'] = survival_rate['abs']\n",
    "    df['rel_survival_rate'] = survival_rate['rel']\n",
    "    df['MSE'] = ((df['abs_survival_rate'] - df['Observed']) ** 2)\n",
    "    return(df)"
   ]
  },
  {
   "cell_type": "code",
   "execution_count": null,
   "metadata": {
    "collapsed": true
   },
   "outputs": [],
   "source": [
    "def get_disease_period(df):\n",
    "    mse_table = pd.DataFrame(columns = ['disease_period', 'MSE'])\n",
    "    for i in range(1, 16):\n",
    "        table = compute_mse(disease_period = i, num_years = 5, df = df)\n",
    "        mse = sum(table['MSE'])/table['MSE'].count()\n",
    "        mse_table.loc[i] = [i, mse]\n",
    "    n_excess_mortality = mse_table[mse_table['MSE'] == min(mse_table['MSE'])]['disease_period']\n",
    "    if n_excess_mortality.count() == 1:\n",
    "        return(int(n_excess_mortality))\n",
    "    else:\n",
    "        return('NA')"
   ]
  },
  {
   "cell_type": "code",
   "execution_count": null,
   "metadata": {
    "collapsed": false
   },
   "outputs": [],
   "source": [
    "disease_period_table = pd.DataFrame(columns = ['acause', 'location_name', 'age_group_id', 'disease_period'])\n",
    "i = 1\n",
    "for cause_name in df['acause'].unique():\n",
    "    for location in df['location_name'].unique():\n",
    "        df_sub = df.loc[(df['location_name'] == location) & (df['acause'] == cause_name)]\n",
    "        for age in df_sub['age_group_id'].unique():\n",
    "            df_sub_age = df_sub[df_sub['age_group_id'] == age]\n",
    "            n_excess_mortality = get_disease_period(df_sub_age)\n",
    "            disease_period_table.loc[i] = [cause_name, location, age, n_excess_mortality]\n",
    "            i += 1        "
   ]
  },
  {
   "cell_type": "code",
   "execution_count": null,
   "metadata": {
    "collapsed": false
   },
   "outputs": [],
   "source": [
    "#CHECK RESULTS\n",
    "disease_period_table.head()"
   ]
  },
  {
   "cell_type": "code",
   "execution_count": null,
   "metadata": {
    "collapsed": true
   },
   "outputs": [],
   "source": [
    "# SAVE RESULTS\n",
    "disease_period_table.to_csv('../results/disease_period_with_age.csv', index = False)"
   ]
  }
 ],
 "metadata": {
  "anaconda-cloud": {},
  "kernelspec": {
   "display_name": "Python [conda env:survival_env]",
   "language": "python",
   "name": "conda-env-survival_env-py"
  },
  "language_info": {
   "codemirror_mode": {
    "name": "ipython",
    "version": 3
   },
   "file_extension": ".py",
   "mimetype": "text/x-python",
   "name": "python",
   "nbconvert_exporter": "python",
   "pygments_lexer": "ipython3",
   "version": "3.6.2"
  }
 },
 "nbformat": 4,
 "nbformat_minor": 4
}

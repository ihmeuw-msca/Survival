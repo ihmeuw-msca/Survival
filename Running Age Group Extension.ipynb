{
 "cells": [
  {
   "cell_type": "code",
   "execution_count": null,
   "metadata": {
    "collapsed": false
   },
   "outputs": [],
   "source": [
    "# Code to make reloading after modifying code easier\n",
    "# Each time you edit the model scripts, run python setup.py install in a terminal window in the repo\n",
    "# These lines *should* make it so that you do not need to restart kernel\n",
    "%load_ext autoreload\n",
    "%autoreload 2\n",
    "%reload_ext autoreload"
   ]
  },
  {
   "cell_type": "code",
   "execution_count": null,
   "metadata": {
    "collapsed": false,
    "scrolled": true
   },
   "outputs": [],
   "source": [
    "import numpy as np\n",
    "import pandas as pd\n",
    "import matplotlib.pyplot as plt\n",
    "from survival import AgeSurvivalModel"
   ]
  },
  {
   "cell_type": "code",
   "execution_count": null,
   "metadata": {
    "collapsed": false
   },
   "outputs": [],
   "source": [
    "# INPUT DATA\n",
    "df_inputs = pd.read_csv('/home/j/temp/fuwj0528/survival/concord_location_inputs_combined_sex.csv')"
   ]
  },
  {
   "cell_type": "code",
   "execution_count": null,
   "metadata": {
    "collapsed": false
   },
   "outputs": [],
   "source": [
    "# CHECK: print unique age group ids\n",
    "#df_inputs.age_group_id.unique()\n",
    "# REMOVE incorrect or not age specific\n",
    "#df_inputs = df_inputs[df_inputs['age_group_id']!=5]\n",
    "#df_inputs = df_inputs[df_inputs['age_group_id']!=22]"
   ]
  },
  {
   "cell_type": "code",
   "execution_count": null,
   "metadata": {
    "collapsed": false
   },
   "outputs": [],
   "source": [
    "# Lines to display all data rows:\n",
    "#pd.set_option('display.max_rows', None)\n",
    "#df_inputs\n",
    "\n",
    "df_inputs.head()"
   ]
  },
  {
   "cell_type": "code",
   "execution_count": null,
   "metadata": {
    "collapsed": true
   },
   "outputs": [],
   "source": [
    "# CHECK: Ensure background mortality is less than 1.\n",
    "# df_inputs = df_inputs[df_inputs['other_mortality']<1]"
   ]
  },
  {
   "cell_type": "code",
   "execution_count": null,
   "metadata": {
    "collapsed": true
   },
   "outputs": [],
   "source": [
    "# OPTIONAL Subset the input to a location for iterating or testing\n",
    "#df_inputs = df_inputs[df_inputs['location_id']==6]"
   ]
  },
  {
   "cell_type": "code",
   "execution_count": null,
   "metadata": {
    "collapsed": false
   },
   "outputs": [],
   "source": [
    "# RUN MODEL on inputs, long running chunk.\n",
    "model = AgeSurvivalModel(df_inputs)\n",
    "model.compute_P_s()\n",
    "\n",
    "# Compute the n year survival in model\n",
    "model.compute_n_year_survival(num_years=5)"
   ]
  },
  {
   "cell_type": "code",
   "execution_count": null,
   "metadata": {
    "collapsed": false,
    "scrolled": false
   },
   "outputs": [],
   "source": [
    "# Compile outputs of model into dataframe\n",
    "df = model.combine_outputs()\n",
    "df.head()"
   ]
  },
  {
   "cell_type": "code",
   "execution_count": null,
   "metadata": {
    "collapsed": true
   },
   "outputs": [],
   "source": [
    "# SAVE OUTPUTS\n",
    "df.to_csv('/home/j/temp/fed1/age_group_extension_test_4_21_2021.csv')"
   ]
  }
 ],
 "metadata": {
  "anaconda-cloud": {},
  "kernelspec": {
   "display_name": "Python [conda env:survival_env]",
   "language": "python",
   "name": "conda-env-survival_env-py"
  },
  "language_info": {
   "codemirror_mode": {
    "name": "ipython",
    "version": 3
   },
   "file_extension": ".py",
   "mimetype": "text/x-python",
   "name": "python",
   "nbconvert_exporter": "python",
   "pygments_lexer": "ipython3",
   "version": "3.6.2"
  }
 },
 "nbformat": 4,
 "nbformat_minor": 1
}

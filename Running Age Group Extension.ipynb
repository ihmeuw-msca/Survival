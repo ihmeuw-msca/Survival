{
 "cells": [
  {
   "cell_type": "code",
   "execution_count": 1,
   "metadata": {
    "collapsed": false
   },
   "outputs": [],
   "source": [
    "# Code to make reloading after modifying code easier\n",
    "# Each time you edit the model scripts, run python setup.py install in a terminal window in the repo\n",
    "# These lines *should* make it so that you do not need to restart kernel\n",
    "%load_ext autoreload\n",
    "%autoreload 2\n",
    "%reload_ext autoreload"
   ]
  },
  {
   "cell_type": "code",
   "execution_count": 2,
   "metadata": {
    "collapsed": false,
    "scrolled": true
   },
   "outputs": [],
   "source": [
    "import numpy as np\n",
    "import pandas as pd\n",
    "import matplotlib.pyplot as plt\n",
    "from survival import MIRModel"
   ]
  },
  {
   "cell_type": "code",
   "execution_count": 3,
   "metadata": {
    "collapsed": false,
    "scrolled": true
   },
   "outputs": [],
   "source": [
    "# AGE GROUP EXTENSION MODEL\n",
    "from survival import AgeSurvivalModel\n",
    "from survival.age_group_extension_v2 import AgeSurvivalModel2"
   ]
  },
  {
   "cell_type": "code",
   "execution_count": 4,
   "metadata": {
    "collapsed": false
   },
   "outputs": [],
   "source": [
    "# INPUT DATA\n",
    "df_inputs = pd.read_csv('/home/j/temp/fuwj0528/survival/concord_location_inputs_combined_sex.csv')"
   ]
  },
  {
   "cell_type": "code",
   "execution_count": 5,
   "metadata": {
    "collapsed": false
   },
   "outputs": [],
   "source": [
    "# CHECK: print unique age group ids\n",
    "#df_inputs.age_group_id.unique()\n",
    "# REMOVE incorrect or not age specific\n",
    "#df_inputs = df_inputs[df_inputs['age_group_id']!=5]\n",
    "#df_inputs = df_inputs[df_inputs['age_group_id']!=22]"
   ]
  },
  {
   "cell_type": "code",
   "execution_count": 6,
   "metadata": {
    "collapsed": false
   },
   "outputs": [
    {
     "data": {
      "text/html": [
       "<div>\n",
       "<style scoped>\n",
       "    .dataframe tbody tr th:only-of-type {\n",
       "        vertical-align: middle;\n",
       "    }\n",
       "\n",
       "    .dataframe tbody tr th {\n",
       "        vertical-align: top;\n",
       "    }\n",
       "\n",
       "    .dataframe thead th {\n",
       "        text-align: right;\n",
       "    }\n",
       "</style>\n",
       "<table border=\"1\" class=\"dataframe\">\n",
       "  <thead>\n",
       "    <tr style=\"text-align: right;\">\n",
       "      <th></th>\n",
       "      <th>Unnamed: 0</th>\n",
       "      <th>location_id</th>\n",
       "      <th>sex_id</th>\n",
       "      <th>year_id</th>\n",
       "      <th>age_group_id</th>\n",
       "      <th>acause</th>\n",
       "      <th>deaths</th>\n",
       "      <th>location_name</th>\n",
       "      <th>all_cause_mor</th>\n",
       "      <th>population</th>\n",
       "      <th>other_mortality</th>\n",
       "      <th>cases</th>\n",
       "      <th>mi_ratio</th>\n",
       "    </tr>\n",
       "  </thead>\n",
       "  <tbody>\n",
       "    <tr>\n",
       "      <th>0</th>\n",
       "      <td>1</td>\n",
       "      <td>6</td>\n",
       "      <td>3</td>\n",
       "      <td>1990</td>\n",
       "      <td>6</td>\n",
       "      <td>neo_brain</td>\n",
       "      <td>2282.497352</td>\n",
       "      <td>China</td>\n",
       "      <td>92907.166903</td>\n",
       "      <td>1.047421e+08</td>\n",
       "      <td>0.000865</td>\n",
       "      <td>3454.915259</td>\n",
       "      <td>0.660652</td>\n",
       "    </tr>\n",
       "    <tr>\n",
       "      <th>1</th>\n",
       "      <td>2</td>\n",
       "      <td>6</td>\n",
       "      <td>3</td>\n",
       "      <td>1990</td>\n",
       "      <td>6</td>\n",
       "      <td>neo_colorectal</td>\n",
       "      <td>59.028745</td>\n",
       "      <td>China</td>\n",
       "      <td>92907.166903</td>\n",
       "      <td>1.047421e+08</td>\n",
       "      <td>0.000886</td>\n",
       "      <td>112.776590</td>\n",
       "      <td>0.523413</td>\n",
       "    </tr>\n",
       "    <tr>\n",
       "      <th>2</th>\n",
       "      <td>3</td>\n",
       "      <td>6</td>\n",
       "      <td>3</td>\n",
       "      <td>1990</td>\n",
       "      <td>6</td>\n",
       "      <td>neo_leukemia_ll_acute</td>\n",
       "      <td>944.262699</td>\n",
       "      <td>China</td>\n",
       "      <td>92907.166903</td>\n",
       "      <td>1.047421e+08</td>\n",
       "      <td>0.000878</td>\n",
       "      <td>1314.237659</td>\n",
       "      <td>0.718487</td>\n",
       "    </tr>\n",
       "    <tr>\n",
       "      <th>3</th>\n",
       "      <td>4</td>\n",
       "      <td>6</td>\n",
       "      <td>3</td>\n",
       "      <td>1990</td>\n",
       "      <td>6</td>\n",
       "      <td>neo_leukemia_ml_chronic</td>\n",
       "      <td>42.450556</td>\n",
       "      <td>China</td>\n",
       "      <td>92907.166903</td>\n",
       "      <td>1.047421e+08</td>\n",
       "      <td>0.000887</td>\n",
       "      <td>58.770683</td>\n",
       "      <td>0.722308</td>\n",
       "    </tr>\n",
       "    <tr>\n",
       "      <th>4</th>\n",
       "      <td>5</td>\n",
       "      <td>6</td>\n",
       "      <td>3</td>\n",
       "      <td>1990</td>\n",
       "      <td>6</td>\n",
       "      <td>neo_liver</td>\n",
       "      <td>207.565761</td>\n",
       "      <td>China</td>\n",
       "      <td>92907.166903</td>\n",
       "      <td>1.047421e+08</td>\n",
       "      <td>0.000885</td>\n",
       "      <td>187.371464</td>\n",
       "      <td>1.107777</td>\n",
       "    </tr>\n",
       "  </tbody>\n",
       "</table>\n",
       "</div>"
      ],
      "text/plain": [
       "   Unnamed: 0  location_id  sex_id  year_id  age_group_id  \\\n",
       "0           1            6       3     1990             6   \n",
       "1           2            6       3     1990             6   \n",
       "2           3            6       3     1990             6   \n",
       "3           4            6       3     1990             6   \n",
       "4           5            6       3     1990             6   \n",
       "\n",
       "                    acause       deaths location_name  all_cause_mor  \\\n",
       "0                neo_brain  2282.497352         China   92907.166903   \n",
       "1           neo_colorectal    59.028745         China   92907.166903   \n",
       "2    neo_leukemia_ll_acute   944.262699         China   92907.166903   \n",
       "3  neo_leukemia_ml_chronic    42.450556         China   92907.166903   \n",
       "4                neo_liver   207.565761         China   92907.166903   \n",
       "\n",
       "     population  other_mortality        cases  mi_ratio  \n",
       "0  1.047421e+08         0.000865  3454.915259  0.660652  \n",
       "1  1.047421e+08         0.000886   112.776590  0.523413  \n",
       "2  1.047421e+08         0.000878  1314.237659  0.718487  \n",
       "3  1.047421e+08         0.000887    58.770683  0.722308  \n",
       "4  1.047421e+08         0.000885   187.371464  1.107777  "
      ]
     },
     "execution_count": 6,
     "metadata": {},
     "output_type": "execute_result"
    }
   ],
   "source": [
    "# Lines to display all data rows:\n",
    "#pd.set_option('display.max_rows', None)\n",
    "#df_inputs\n",
    "\n",
    "df_inputs.head()"
   ]
  },
  {
   "cell_type": "code",
   "execution_count": 7,
   "metadata": {
    "collapsed": true
   },
   "outputs": [],
   "source": [
    "# CHECK: Ensure background mortality is less than 1.\n",
    "# df_inputs = df_inputs[df_inputs['other_mortality']<1]"
   ]
  },
  {
   "cell_type": "code",
   "execution_count": null,
   "metadata": {
    "collapsed": true
   },
   "outputs": [],
   "source": [
    "# Subset the inputs\n",
    "df_inputs = df_inputs[df_inputs['location_id']==6]"
   ]
  },
  {
   "cell_type": "code",
   "execution_count": null,
   "metadata": {
    "collapsed": false
   },
   "outputs": [],
   "source": [
    "# RUN MODEL on inputs, long running chunk.\n",
    "model = AgeSurvivalModel(df_inputs)\n",
    "model.compute_P_s()\n",
    "\n",
    "# Compute the n year survival in model\n",
    "model.compute_n_year_survival(num_years=5)"
   ]
  },
  {
   "cell_type": "code",
   "execution_count": null,
   "metadata": {
    "collapsed": false,
    "scrolled": false
   },
   "outputs": [],
   "source": [
    "# Compile outputs of model into dataframe\n",
    "df = model.combine_outputs()\n",
    "df.head()"
   ]
  },
  {
   "cell_type": "code",
   "execution_count": null,
   "metadata": {
    "collapsed": true
   },
   "outputs": [],
   "source": [
    "# SAVE OUTPUTS\n",
    "df.to_csv('/home/j/temp/fed1/age_group_extension_test_4_21_2021.csv')"
   ]
  }
 ],
 "metadata": {
  "anaconda-cloud": {},
  "kernelspec": {
   "display_name": "Python [conda env:survival_env]",
   "language": "python",
   "name": "conda-env-survival_env-py"
  },
  "language_info": {
   "codemirror_mode": {
    "name": "ipython",
    "version": 3
   },
   "file_extension": ".py",
   "mimetype": "text/x-python",
   "name": "python",
   "nbconvert_exporter": "python",
   "pygments_lexer": "ipython3",
   "version": "3.6.2"
  }
 },
 "nbformat": 4,
 "nbformat_minor": 1
}

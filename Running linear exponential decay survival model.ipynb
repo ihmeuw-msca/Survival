{
 "cells": [
  {
   "cell_type": "code",
   "execution_count": 1,
   "metadata": {
    "collapsed": false
   },
   "outputs": [
    {
     "name": "stdout",
     "output_type": "stream",
     "text": [
      "Requirement already satisfied: pandas in /ihme/homes/fed1/.conda/envs/survival_env/lib/python3.6/site-packages\n",
      "Requirement already satisfied: python-dateutil>=2.6.1 in /ihme/homes/fed1/.conda/envs/survival_env/lib/python3.6/site-packages (from pandas)\n",
      "Requirement already satisfied: pytz>=2017.2 in /ihme/homes/fed1/.conda/envs/survival_env/lib/python3.6/site-packages (from pandas)\n",
      "Requirement already satisfied: numpy>=1.13.3 in /ihme/homes/fed1/.conda/envs/survival_env/lib/python3.6/site-packages (from pandas)\n",
      "Requirement already satisfied: six>=1.5 in /ihme/homes/fed1/.conda/envs/survival_env/lib/python3.6/site-packages (from python-dateutil>=2.6.1->pandas)\n",
      "\u001b[33mYou are using pip version 9.0.1, however version 21.0.1 is available.\n",
      "You should consider upgrading via the 'pip install --upgrade pip' command.\u001b[0m\n",
      "Requirement already satisfied: matplotlib in /ihme/homes/fed1/.conda/envs/survival_env/lib/python3.6/site-packages\n",
      "Requirement already satisfied: cycler>=0.10 in /ihme/homes/fed1/.conda/envs/survival_env/lib/python3.6/site-packages (from matplotlib)\n",
      "Requirement already satisfied: numpy>=1.11 in /ihme/homes/fed1/.conda/envs/survival_env/lib/python3.6/site-packages (from matplotlib)\n",
      "Requirement already satisfied: kiwisolver>=1.0.1 in /ihme/homes/fed1/.conda/envs/survival_env/lib/python3.6/site-packages (from matplotlib)\n",
      "Requirement already satisfied: python-dateutil>=2.1 in /ihme/homes/fed1/.conda/envs/survival_env/lib/python3.6/site-packages (from matplotlib)\n",
      "Requirement already satisfied: pyparsing!=2.0.4,!=2.1.2,!=2.1.6,>=2.0.1 in /ihme/homes/fed1/.conda/envs/survival_env/lib/python3.6/site-packages (from matplotlib)\n",
      "Requirement already satisfied: six in /ihme/homes/fed1/.conda/envs/survival_env/lib/python3.6/site-packages (from cycler>=0.10->matplotlib)\n",
      "\u001b[33mYou are using pip version 9.0.1, however version 21.0.1 is available.\n",
      "You should consider upgrading via the 'pip install --upgrade pip' command.\u001b[0m\n"
     ]
    }
   ],
   "source": [
    "#SET UP\n",
    "import sys\n",
    "!{sys.executable} -m pip install pandas\n",
    "!{sys.executable} -m pip install matplotlib"
   ]
  },
  {
   "cell_type": "code",
   "execution_count": 4,
   "metadata": {
    "collapsed": false
   },
   "outputs": [
    {
     "ename": "ImportError",
     "evalue": "cannot import name 'DecayMIRModel'",
     "output_type": "error",
     "traceback": [
      "\u001b[0;31m---------------------------------------------------------------------------\u001b[0m",
      "\u001b[0;31mImportError\u001b[0m                               Traceback (most recent call last)",
      "\u001b[0;32m<ipython-input-4-ce6ee3296c07>\u001b[0m in \u001b[0;36m<module>\u001b[0;34m\u001b[0m\n\u001b[1;32m      2\u001b[0m \u001b[0;32mimport\u001b[0m \u001b[0mpandas\u001b[0m \u001b[0;32mas\u001b[0m \u001b[0mpd\u001b[0m\u001b[0;34m\u001b[0m\u001b[0m\n\u001b[1;32m      3\u001b[0m \u001b[0;32mimport\u001b[0m \u001b[0mmatplotlib\u001b[0m\u001b[0;34m.\u001b[0m\u001b[0mpyplot\u001b[0m \u001b[0;32mas\u001b[0m \u001b[0mplt\u001b[0m\u001b[0;34m\u001b[0m\u001b[0m\n\u001b[0;32m----> 4\u001b[0;31m \u001b[0;32mfrom\u001b[0m \u001b[0msurvival\u001b[0m \u001b[0;32mimport\u001b[0m \u001b[0mDecayMIRModel\u001b[0m\u001b[0;34m\u001b[0m\u001b[0m\n\u001b[0m",
      "\u001b[0;31mImportError\u001b[0m: cannot import name 'DecayMIRModel'"
     ]
    }
   ],
   "source": [
    "import numpy as np\n",
    "import pandas as pd\n",
    "import matplotlib.pyplot as plt\n",
    "from survival import DecayMIRModel"
   ]
  },
  {
   "cell_type": "code",
   "execution_count": null,
   "metadata": {
    "collapsed": false
   },
   "outputs": [],
   "source": [
    "#PROCESS INPUTS\n",
    "df = pd.read_csv('/home/j/temp/fed1/test_new_decay_survival_model_inputs.csv')\n",
    "\n",
    "#remove NAs and MIR >1\n",
    "df = df.dropna()\n",
    "df = df[df['mi_ratio']<=1]\n",
    "\n",
    "df.head()"
   ]
  },
  {
   "cell_type": "code",
   "execution_count": 3,
   "metadata": {
    "collapsed": false
   },
   "outputs": [
    {
     "ename": "NameError",
     "evalue": "name 'DecayMIRModel' is not defined",
     "output_type": "error",
     "traceback": [
      "\u001b[0;31m---------------------------------------------------------------------------\u001b[0m",
      "\u001b[0;31mNameError\u001b[0m                                 Traceback (most recent call last)",
      "\u001b[0;32m<ipython-input-3-24bcaa2f1db2>\u001b[0m in \u001b[0;36m<module>\u001b[0;34m\u001b[0m\n\u001b[1;32m      2\u001b[0m \u001b[0mnum_years\u001b[0m \u001b[0;34m=\u001b[0m \u001b[0;36m5\u001b[0m\u001b[0;34m\u001b[0m\u001b[0m\n\u001b[1;32m      3\u001b[0m \u001b[0;34m\u001b[0m\u001b[0m\n\u001b[0;32m----> 4\u001b[0;31m model = DecayMIRModel(df['mi_ratio'],\n\u001b[0m\u001b[1;32m      5\u001b[0m                  \u001b[0mdf\u001b[0m\u001b[0;34m[\u001b[0m\u001b[0;34m'other_mortality'\u001b[0m\u001b[0;34m]\u001b[0m\u001b[0;34m,\u001b[0m\u001b[0;34m\u001b[0m\u001b[0m\n\u001b[1;32m      6\u001b[0m                  \u001b[0mdf\u001b[0m\u001b[0;34m[\u001b[0m\u001b[0;34m'disease_period'\u001b[0m\u001b[0;34m]\u001b[0m\u001b[0;34m,\u001b[0m\u001b[0;34m\u001b[0m\u001b[0m\n",
      "\u001b[0;31mNameError\u001b[0m: name 'DecayMIRModel' is not defined"
     ]
    }
   ],
   "source": [
    "#RUN MODEL\n",
    "num_years = 5\n",
    "\n",
    "model = DecayMIRModel(df['mi_ratio'],\n",
    "                 df['other_mortality'],\n",
    "                 df['disease_period'],\n",
    "                 df['slope'])\n",
    "model.compute_base_excess_mortality()\n",
    "survival_rate = model.get_survival_rate(num_years=num_years)\n",
    "\n",
    "df['excess_mortality'] = model.excess_mortality\n",
    "df['abs_survival_rate'] = survival_rate['abs']\n",
    "df['rel_survival_rate'] = survival_rate['rel']"
   ]
  }
 ],
 "metadata": {
  "anaconda-cloud": {},
  "kernelspec": {
   "display_name": "Python [conda env:survival_env]",
   "language": "python",
   "name": "conda-env-survival_env-py"
  },
  "language_info": {
   "codemirror_mode": {
    "name": "ipython",
    "version": 3
   },
   "file_extension": ".py",
   "mimetype": "text/x-python",
   "name": "python",
   "nbconvert_exporter": "python",
   "pygments_lexer": "ipython3",
   "version": "3.6.2"
  }
 },
 "nbformat": 4,
 "nbformat_minor": 1
}

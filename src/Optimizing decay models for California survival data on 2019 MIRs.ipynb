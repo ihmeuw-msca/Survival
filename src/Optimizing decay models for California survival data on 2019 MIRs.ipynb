{
 "cells": [
  {
   "cell_type": "markdown",
   "metadata": {},
   "source": [
    "## Code to optimize a curve fit for log(P_c) using b*log(1-exp(x-a))+c, uses least squares"
   ]
  },
  {
   "cell_type": "code",
   "execution_count": 1,
   "metadata": {},
   "outputs": [],
   "source": [
    "import pandas as pd\n",
    "import numpy as np\n",
    "import math\n",
    "import matplotlib.pyplot as plt\n",
    "from scipy.optimize import least_squares\n",
    "import scipy.special as scipy"
   ]
  },
  {
   "cell_type": "code",
   "execution_count": 2,
   "metadata": {},
   "outputs": [],
   "source": [
    "df = pd.read_csv(\"/homes/fed1/Survival_Franny/SEER_CA_formatted_test_for_paper.csv\")"
   ]
  },
  {
   "cell_type": "code",
   "execution_count": null,
   "metadata": {
    "scrolled": true
   },
   "outputs": [],
   "source": [
    "df['t'] = df['interval']+1\n",
    "\n",
    "df = df[df.year==0]\n",
    "df = df[df.sex==3]\n",
    "df = df[df.age_name==\"All Ages\"]\n",
    "\n",
    "df['P_c'] = 1 - df['net_survival']"
   ]
  },
  {
   "cell_type": "code",
   "execution_count": null,
   "metadata": {},
   "outputs": [],
   "source": [
    "#with_P_c = df[df.t==1]\n",
    "for cancer in df.cause_name.unique():\n",
    "    index_1 = (df.cause_name==cancer)\n",
    "    df.loc[(index_1)&(df.t>1), 'P_c']=1-df.net_survival[index_1].values[1:]/df.net_survival[index_1].values[:-1]\n",
    "    #with_P_c = pd.merge(with_P_c, df_cause, how='outer')"
   ]
  },
  {
   "cell_type": "code",
   "execution_count": null,
   "metadata": {
    "scrolled": true
   },
   "outputs": [],
   "source": [
    "df = df.dropna()\n",
    "df = df[df['P_c']!=0]\n",
    "df['logit_P_c'] = scipy.logit(df['P_c'])"
   ]
  },
  {
   "cell_type": "code",
   "execution_count": null,
   "metadata": {},
   "outputs": [],
   "source": [
    "# define the functional form to fit\n",
    "def function(x,t):\n",
    "    return x[1]*np.log(1 + np.exp(-(t-x[0])))+x[2]\n",
    "\n",
    "def model(x, t, y):\n",
    "    return function(x,t)-y"
   ]
  },
  {
   "cell_type": "code",
   "execution_count": null,
   "metadata": {},
   "outputs": [],
   "source": [
    "# starting values\n",
    "x_0 = np.array([1.0,1.0,1.0])"
   ]
  },
  {
   "cell_type": "code",
   "execution_count": null,
   "metadata": {},
   "outputs": [],
   "source": [
    "parameters = pd.DataFrame(columns = ['cause_name', 'a','b','c'])\n",
    "for cancer in df.cause_name.unique():\n",
    "    #for age in with_P_c_no_inf.age_name.unique():\n",
    "        #cancer = \"All Sites\"\n",
    "        #ages = \"All Ages\"\n",
    "\n",
    "        data = df[df['cause_name']==cancer]\n",
    "        #data = data[data['age_name']==age]\n",
    "\n",
    "\n",
    "        t=data['t']\n",
    "        y=data['logit_P_c']\n",
    "        res_lsq = least_squares(model, x_0, args=(t,y), loss='linear')        \n",
    "        # other loss functions to try:\n",
    "        # soft_l1, cauchy\n",
    "        #weights\n",
    "\n",
    "        # PLOT\n",
    "        output = function(res_lsq.x, t)\n",
    "        plt.plot(t, scipy.expit(y), 'o', markersize=4, label='data')\n",
    "        plt.plot(t, scipy.expit(output), label='fitted model')\n",
    "        plt.xlabel(\"t\")\n",
    "        plt.ylabel(\"logit_P_c\")\n",
    "        plt.legend(loc='lower right')\n",
    "        plt.title(cancer)#+\": a =\"+str(res_lsq.x[0])+\" b =\"+str(res_lsq.x[1])+\" c =\"+str(res_lsq.x[2]))\n",
    "        plt.show()\n",
    "        \n",
    "        # SAVE\n",
    "        row = pd.DataFrame(data={'cause_name': [cancer],\n",
    "              'a': [res_lsq.x[0]],\n",
    "              'b': [res_lsq.x[1]],\n",
    "              'c': [res_lsq.x[2]]})\n",
    "        print(row)\n",
    "        parameters = parameters.append(row, ignore_index = True)"
   ]
  },
  {
   "cell_type": "code",
   "execution_count": null,
   "metadata": {},
   "outputs": [],
   "source": [
    "parameters.head()"
   ]
  },
  {
   "cell_type": "code",
   "execution_count": null,
   "metadata": {},
   "outputs": [],
   "source": [
    "parameters.to_csv('/homes/fed1/Survival_Franny/three_parameter_log_form_values_SEER_6_3_2021.csv', index=False)"
   ]
  },
  {
   "cell_type": "markdown",
   "metadata": {},
   "source": [
    "## To do:\n",
    "\n",
    "Try age group specific"
   ]
  }
 ],
 "metadata": {
  "kernelspec": {
   "display_name": "Python 3",
   "language": "python",
   "name": "python3"
  },
  "language_info": {
   "codemirror_mode": {
    "name": "ipython",
    "version": 3
   },
   "file_extension": ".py",
   "mimetype": "text/x-python",
   "name": "python",
   "nbconvert_exporter": "python",
   "pygments_lexer": "ipython3",
   "version": "3.6.2"
  }
 },
 "nbformat": 4,
 "nbformat_minor": 4
}

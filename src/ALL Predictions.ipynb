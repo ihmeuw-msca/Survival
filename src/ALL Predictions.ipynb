{
 "cells": [
  {
   "cell_type": "code",
   "execution_count": 35,
   "metadata": {
    "scrolled": true
   },
   "outputs": [],
   "source": [
    "import numpy as np\n",
    "import pandas as pd\n",
    "import matplotlib.pyplot as plt\n",
    "from survival import DecayMIRModel\n",
    "from survival import MIRModel\n",
    "from survival.age_group_extension import AgeSurvivalModel\n",
    "from survival.three_parameter_log_form import LogFormMIRModel"
   ]
  },
  {
   "cell_type": "markdown",
   "metadata": {},
   "source": [
    "## INPUT DATA"
   ]
  },
  {
   "cell_type": "markdown",
   "metadata": {},
   "source": [
    "### [GBD 2019 MIRs with GBD 2019 background mortality]"
   ]
  },
  {
   "cell_type": "code",
   "execution_count": null,
   "metadata": {},
   "outputs": [],
   "source": [
    "#df = pd.read_csv('/home/j/temp/fed1/2019_mirs_with_background_mortality_ALL_only.csv')"
   ]
  },
  {
   "cell_type": "markdown",
   "metadata": {},
   "source": [
    "### [GBD 2020 v 89 MIRs with GBD 2020 background mortality]"
   ]
  },
  {
   "cell_type": "code",
   "execution_count": 36,
   "metadata": {},
   "outputs": [],
   "source": [
    "df = pd.read_csv('/home/j/temp/fed1/2020_mirs_with_background_mortality_ALL_only.csv')"
   ]
  },
  {
   "cell_type": "code",
   "execution_count": 37,
   "metadata": {
    "scrolled": false
   },
   "outputs": [
    {
     "data": {
      "text/html": [
       "<div>\n",
       "<style scoped>\n",
       "    .dataframe tbody tr th:only-of-type {\n",
       "        vertical-align: middle;\n",
       "    }\n",
       "\n",
       "    .dataframe tbody tr th {\n",
       "        vertical-align: top;\n",
       "    }\n",
       "\n",
       "    .dataframe thead th {\n",
       "        text-align: right;\n",
       "    }\n",
       "</style>\n",
       "<table border=\"1\" class=\"dataframe\">\n",
       "  <thead>\n",
       "    <tr style=\"text-align: right;\">\n",
       "      <th></th>\n",
       "      <th>Unnamed: 0</th>\n",
       "      <th>age_group_id</th>\n",
       "      <th>sex_id</th>\n",
       "      <th>year_id</th>\n",
       "      <th>location_id</th>\n",
       "      <th>acause</th>\n",
       "      <th>mi_ratio</th>\n",
       "      <th>cause_id</th>\n",
       "      <th>measure_id</th>\n",
       "      <th>metric_id</th>\n",
       "      <th>age_group_name</th>\n",
       "      <th>cause_name</th>\n",
       "      <th>expected</th>\n",
       "      <th>location_name</th>\n",
       "      <th>location_type</th>\n",
       "      <th>measure_name</th>\n",
       "      <th>metric_name</th>\n",
       "      <th>sex</th>\n",
       "      <th>background_mortality</th>\n",
       "    </tr>\n",
       "  </thead>\n",
       "  <tbody>\n",
       "    <tr>\n",
       "      <th>0</th>\n",
       "      <td>1</td>\n",
       "      <td>1</td>\n",
       "      <td>1</td>\n",
       "      <td>1990</td>\n",
       "      <td>6</td>\n",
       "      <td>neo_leukemia_ll_acute</td>\n",
       "      <td>0.736437</td>\n",
       "      <td>294</td>\n",
       "      <td>1</td>\n",
       "      <td>3</td>\n",
       "      <td>Under 5</td>\n",
       "      <td>All causes</td>\n",
       "      <td>False</td>\n",
       "      <td>China</td>\n",
       "      <td>admin0</td>\n",
       "      <td>Deaths</td>\n",
       "      <td>Rate</td>\n",
       "      <td>Male</td>\n",
       "      <td>0.010942</td>\n",
       "    </tr>\n",
       "    <tr>\n",
       "      <th>1</th>\n",
       "      <td>2</td>\n",
       "      <td>1</td>\n",
       "      <td>1</td>\n",
       "      <td>1990</td>\n",
       "      <td>7</td>\n",
       "      <td>neo_leukemia_ll_acute</td>\n",
       "      <td>0.747966</td>\n",
       "      <td>294</td>\n",
       "      <td>1</td>\n",
       "      <td>3</td>\n",
       "      <td>Under 5</td>\n",
       "      <td>All causes</td>\n",
       "      <td>False</td>\n",
       "      <td>Democratic People's Republic of Korea</td>\n",
       "      <td>admin0</td>\n",
       "      <td>Deaths</td>\n",
       "      <td>Rate</td>\n",
       "      <td>Male</td>\n",
       "      <td>0.009047</td>\n",
       "    </tr>\n",
       "    <tr>\n",
       "      <th>2</th>\n",
       "      <td>3</td>\n",
       "      <td>1</td>\n",
       "      <td>1</td>\n",
       "      <td>1990</td>\n",
       "      <td>8</td>\n",
       "      <td>neo_leukemia_ll_acute</td>\n",
       "      <td>0.254112</td>\n",
       "      <td>294</td>\n",
       "      <td>1</td>\n",
       "      <td>3</td>\n",
       "      <td>Under 5</td>\n",
       "      <td>All causes</td>\n",
       "      <td>False</td>\n",
       "      <td>Taiwan (Province of China)</td>\n",
       "      <td>admin0</td>\n",
       "      <td>Deaths</td>\n",
       "      <td>Rate</td>\n",
       "      <td>Male</td>\n",
       "      <td>0.001818</td>\n",
       "    </tr>\n",
       "    <tr>\n",
       "      <th>3</th>\n",
       "      <td>4</td>\n",
       "      <td>1</td>\n",
       "      <td>1</td>\n",
       "      <td>1990</td>\n",
       "      <td>10</td>\n",
       "      <td>neo_leukemia_ll_acute</td>\n",
       "      <td>0.951282</td>\n",
       "      <td>294</td>\n",
       "      <td>1</td>\n",
       "      <td>3</td>\n",
       "      <td>Under 5</td>\n",
       "      <td>All causes</td>\n",
       "      <td>False</td>\n",
       "      <td>Cambodia</td>\n",
       "      <td>admin0</td>\n",
       "      <td>Deaths</td>\n",
       "      <td>Rate</td>\n",
       "      <td>Male</td>\n",
       "      <td>0.029895</td>\n",
       "    </tr>\n",
       "    <tr>\n",
       "      <th>4</th>\n",
       "      <td>5</td>\n",
       "      <td>1</td>\n",
       "      <td>1</td>\n",
       "      <td>1990</td>\n",
       "      <td>11</td>\n",
       "      <td>neo_leukemia_ll_acute</td>\n",
       "      <td>0.890948</td>\n",
       "      <td>294</td>\n",
       "      <td>1</td>\n",
       "      <td>3</td>\n",
       "      <td>Under 5</td>\n",
       "      <td>All causes</td>\n",
       "      <td>False</td>\n",
       "      <td>Indonesia</td>\n",
       "      <td>admin0</td>\n",
       "      <td>Deaths</td>\n",
       "      <td>Rate</td>\n",
       "      <td>Male</td>\n",
       "      <td>0.018975</td>\n",
       "    </tr>\n",
       "  </tbody>\n",
       "</table>\n",
       "</div>"
      ],
      "text/plain": [
       "   Unnamed: 0  age_group_id  sex_id  year_id  location_id  \\\n",
       "0           1             1       1     1990            6   \n",
       "1           2             1       1     1990            7   \n",
       "2           3             1       1     1990            8   \n",
       "3           4             1       1     1990           10   \n",
       "4           5             1       1     1990           11   \n",
       "\n",
       "                  acause  mi_ratio  cause_id  measure_id  metric_id  \\\n",
       "0  neo_leukemia_ll_acute  0.736437       294           1          3   \n",
       "1  neo_leukemia_ll_acute  0.747966       294           1          3   \n",
       "2  neo_leukemia_ll_acute  0.254112       294           1          3   \n",
       "3  neo_leukemia_ll_acute  0.951282       294           1          3   \n",
       "4  neo_leukemia_ll_acute  0.890948       294           1          3   \n",
       "\n",
       "  age_group_name  cause_name  expected                          location_name  \\\n",
       "0        Under 5  All causes     False                                  China   \n",
       "1        Under 5  All causes     False  Democratic People's Republic of Korea   \n",
       "2        Under 5  All causes     False             Taiwan (Province of China)   \n",
       "3        Under 5  All causes     False                               Cambodia   \n",
       "4        Under 5  All causes     False                              Indonesia   \n",
       "\n",
       "  location_type measure_name metric_name   sex  background_mortality  \n",
       "0        admin0       Deaths        Rate  Male              0.010942  \n",
       "1        admin0       Deaths        Rate  Male              0.009047  \n",
       "2        admin0       Deaths        Rate  Male              0.001818  \n",
       "3        admin0       Deaths        Rate  Male              0.029895  \n",
       "4        admin0       Deaths        Rate  Male              0.018975  "
      ]
     },
     "execution_count": 37,
     "metadata": {},
     "output_type": "execute_result"
    }
   ],
   "source": [
    "#PROCESS INPUTS\n",
    "#remove NAs and MIR >1\n",
    "df = df.dropna()\n",
    "df = df[df['mi_ratio']<=1]\n",
    "df = df[df['age_group_id']!=22]\n",
    "df = df[df['age_group_id']!=28]\n",
    "df = df[df['age_group_id']!=2]\n",
    "df = df[df['age_group_id']!=3]\n",
    "df = df[df['age_group_id']!=4]\n",
    "df = df[df['age_group_id']!=5]\n",
    "\n",
    "df.head()"
   ]
  },
  {
   "cell_type": "code",
   "execution_count": 38,
   "metadata": {},
   "outputs": [],
   "source": [
    "# Subset to the pediatric age groups and test on a single year (2019)\n",
    "df = df[df['age_group_id']<9]\n",
    "df = df[df['year_id']==2020]"
   ]
  },
  {
   "cell_type": "markdown",
   "metadata": {},
   "source": [
    "## I. Base MIR -> Survival Model:"
   ]
  },
  {
   "cell_type": "markdown",
   "metadata": {},
   "source": [
    "#### [M/I = (1-P_s^n)(P_c)/(P_c+P_o)]"
   ]
  },
  {
   "cell_type": "code",
   "execution_count": 24,
   "metadata": {},
   "outputs": [],
   "source": [
    "#PARAMETERS\n",
    "num_years = 5\n",
    "disease_pd = 10\n",
    "\n",
    "#RUN BASE MODEL\n",
    "model = MIRModel(df['mi_ratio'],\n",
    "                 df['background_mortality'],\n",
    "                 disease_period=disease_pd)\n",
    "model.compute_excess_mortality()\n",
    "survival_rate = model.get_survival_rate(num_years=num_years)\n",
    "\n",
    "# SAVE IN ORIGINAL DATA FRAME\n",
    "df['excess_mortality_og_mir_model'] = model.excess_mortality\n",
    "df['abs_survival_rate_og_mir_model'] = survival_rate['abs']\n",
    "df['rel_survival_rate_og_mir_model'] = survival_rate['rel']"
   ]
  },
  {
   "cell_type": "markdown",
   "metadata": {},
   "source": [
    "## IV. Three parameter decay model:"
   ]
  },
  {
   "cell_type": "markdown",
   "metadata": {},
   "source": [
    "#### [log(P_c) = b*log(1+exp(-(x-a)))+c]"
   ]
  },
  {
   "cell_type": "code",
   "execution_count": 39,
   "metadata": {},
   "outputs": [],
   "source": [
    "df['age_name']=\"00-04 years\"\n",
    "df.loc[df['age_group_id']==6,'age_name']=\"05-09 years\"\n",
    "df.loc[df['age_group_id']==7,'age_name']=\"10-14 years\"\n",
    "df.loc[df['age_group_id']==8,'age_name']=\"15-19 years\""
   ]
  },
  {
   "cell_type": "code",
   "execution_count": 40,
   "metadata": {},
   "outputs": [
    {
     "data": {
      "text/plain": [
       "array(['Oral Cavity and Pharynx', 'Nasopharynx',\n",
       "       'Liver and Intrahepatic Bile Duct', 'Pancreas',\n",
       "       'Nose, Nasal Cavity and Middle Ear', 'Lung and Bronchus',\n",
       "       'Bones and Joints', 'Soft Tissue including Heart',\n",
       "       'Skin excluding Basal and Squamous', 'Melanoma of the Skin',\n",
       "       'Other Non-Epithelial Skin', 'Ovary', 'Prostate', 'Testis',\n",
       "       'Urinary Bladder', 'Kidney and Renal Pelvis', 'Eye and Orbit',\n",
       "       'Brain and Other Nervous System', 'Non-Hodgkin Lymphoma',\n",
       "       'Leukemia', 'Acute Lymphocytic Leukemia',\n",
       "       'Chronic Lymphocytic Leukemia', 'Acute Myeloid Leukemia',\n",
       "       'Chronic Myeloid Leukemia', 'Other Leukemia', 'Colon and Rectum',\n",
       "       'Hodgkin Lymphoma', 'Stomach', 'Corpus and Uterus, NOS', 'Thyroid',\n",
       "       'Gallbladder', 'Larynx', 'Breast', 'Cervix Uteri', 'Myeloma',\n",
       "       'Mesothelioma', 'Esophagus'], dtype=object)"
      ]
     },
     "execution_count": 40,
     "metadata": {},
     "output_type": "execute_result"
    }
   ],
   "source": [
    "parameters.cause_name.unique()"
   ]
  },
  {
   "cell_type": "code",
   "execution_count": 41,
   "metadata": {},
   "outputs": [],
   "source": [
    "# merge in the fitted parameters\n",
    "parameters = pd.read_csv('/homes/fed1/Survival_Franny/three_parameter_log_form_values_SEER_6_18_2021_age_specific.csv')\n",
    "df = df.merge(parameters[parameters['cause_name']=='Acute Lymphocytic Leukemia'], how=\"left\", on=['age_name'])"
   ]
  },
  {
   "cell_type": "code",
   "execution_count": 42,
   "metadata": {},
   "outputs": [],
   "source": [
    "num_years = 5\n",
    "\n",
    "df['n']=15\n",
    "\n",
    "# RUN THREE PARAMETER LOG MODEL\n",
    "three_param_model = LogFormMIRModel(df['mi_ratio'],\n",
    "                                    df['background_mortality'],\n",
    "                                    df['a'],\n",
    "                                    df['b'],\n",
    "                                    df['n'])\n",
    "three_param_model.compute_third_parameter()\n"
   ]
  },
  {
   "cell_type": "code",
   "execution_count": 43,
   "metadata": {},
   "outputs": [],
   "source": [
    "survival_rate = three_param_model.get_survival_rates(num_years=num_years)\n",
    "\n",
    "# SAVE IN ORIGINAL DATA FRAME\n",
    "df['predicted_c'] = three_param_model.c\n",
    "df['abs_survival_rate_three_param_model'] = survival_rate['abs']\n",
    "df['rel_survival_rate_three_param_model'] = survival_rate['rel']"
   ]
  },
  {
   "cell_type": "markdown",
   "metadata": {},
   "source": [
    "## Comparison to Current GBD Methods"
   ]
  },
  {
   "cell_type": "code",
   "execution_count": 44,
   "metadata": {
    "scrolled": false
   },
   "outputs": [],
   "source": [
    "df['rel_survival_old_gbd_model'] = 1-df['mi_ratio']"
   ]
  },
  {
   "cell_type": "markdown",
   "metadata": {},
   "source": [
    "## Save results"
   ]
  },
  {
   "cell_type": "code",
   "execution_count": 45,
   "metadata": {},
   "outputs": [],
   "source": [
    "df.to_csv('/home/j/temp/fed1/comparing_ALL_survival_methods_2020_inputs_6_18_2021_n_15_age_specific.csv')"
   ]
  },
  {
   "cell_type": "code",
   "execution_count": null,
   "metadata": {
    "scrolled": true
   },
   "outputs": [],
   "source": [
    "df.head()"
   ]
  }
 ],
 "metadata": {
  "anaconda-cloud": {},
  "kernelspec": {
   "display_name": "Python 3",
   "language": "python",
   "name": "python3"
  },
  "language_info": {
   "codemirror_mode": {
    "name": "ipython",
    "version": 3
   },
   "file_extension": ".py",
   "mimetype": "text/x-python",
   "name": "python",
   "nbconvert_exporter": "python",
   "pygments_lexer": "ipython3",
   "version": "3.6.2"
  }
 },
 "nbformat": 4,
 "nbformat_minor": 1
}

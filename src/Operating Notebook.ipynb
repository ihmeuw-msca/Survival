{
 "cells": [
  {
   "cell_type": "code",
   "execution_count": 6,
   "metadata": {},
   "outputs": [],
   "source": [
    "#SET UP\n",
    "#import sys\n",
    "#sys.path\n",
    "#!{sys.executable} -m pip install pandas\n",
    "#!{sys.executable} -m pip install matplotlib"
   ]
  },
  {
   "cell_type": "code",
   "execution_count": 2,
   "metadata": {
    "scrolled": true
   },
   "outputs": [],
   "source": [
    "import numpy as np\n",
    "import pandas as pd\n",
    "import matplotlib.pyplot as plt\n",
    "from survival import DecayMIRModel\n",
    "from survival import MIRModel"
   ]
  },
  {
   "cell_type": "code",
   "execution_count": null,
   "metadata": {
    "scrolled": true
   },
   "outputs": [],
   "source": [
    "#PROCESS INPUTS\n",
    "df = pd.read_csv('/home/j/temp/fed1/2019_mirs_with_background_mortality.csv')\n",
    "\n",
    "#remove NAs and MIR >1\n",
    "df = df.dropna()\n",
    "df = df[df['mi_ratio']<=1]\n",
    "\n",
    "#set model parameters\n",
    "df['disease_period'] = 10\n",
    "df['slope'] = .21\n",
    "\n",
    "df.head()"
   ]
  },
  {
   "cell_type": "code",
   "execution_count": null,
   "metadata": {},
   "outputs": [],
   "source": [
    "#RUN BASE MODEL\n",
    "num_years = 5\n",
    "\n",
    "model = MIRModel(df['mi_ratio'],\n",
    "                 df['other_mortality'],\n",
    "                 disease_period=10)\n",
    "model.compute_excess_mortality()\n",
    "survival_rate = model.get_survival_rate(num_years=num_years)\n",
    "\n",
    "df['excess_mortality_og_mir_model'] = model.excess_mortality\n",
    "df['abs_survival_rate_og_mir_model'] = survival_rate['abs']\n",
    "df['rel_survival_rate_og_mir_model'] = survival_rate['rel']"
   ]
  },
  {
   "cell_type": "code",
   "execution_count": null,
   "metadata": {
    "scrolled": true
   },
   "outputs": [],
   "source": [
    "#RUN DECAY MODEL\n",
    "num_years = 5\n",
    "\n",
    "model = DecayMIRModel(df['mi_ratio'],\n",
    "                 df['other_mortality'],\n",
    "                 df['disease_period'],\n",
    "                 df['slope'])\n",
    "model.compute_base_excess_mortality()\n",
    "survival_rate = model.get_survival_rate(num_years=num_years)\n",
    "\n",
    "df['base_excess_mortality_decay_model'] = model.base_excess_mortality\n",
    "df['abs_survival_rate_decay_model'] = survival_rate['abs']\n",
    "df['rel_survival_rate_decay_model'] = survival_rate['rel']"
   ]
  },
  {
   "cell_type": "code",
   "execution_count": null,
   "metadata": {},
   "outputs": [],
   "source": [
    "#READ IN AND APPEND OLD SURVIVAL PREDICTIONS TO COMPARE"
   ]
  },
  {
   "cell_type": "code",
   "execution_count": null,
   "metadata": {
    "scrolled": true
   },
   "outputs": [],
   "source": [
    "df.head()"
   ]
  },
  {
   "cell_type": "code",
   "execution_count": null,
   "metadata": {},
   "outputs": [],
   "source": [
    "df.to_csv('/home/j/temp/fed1/comparing_new_decay_method_4_28_2021.csv')"
   ]
  }
 ],
 "metadata": {
  "anaconda-cloud": {},
  "kernelspec": {
   "display_name": "Python 3",
   "language": "python",
   "name": "python3"
  },
  "language_info": {
   "codemirror_mode": {
    "name": "ipython",
    "version": 3
   },
   "file_extension": ".py",
   "mimetype": "text/x-python",
   "name": "python",
   "nbconvert_exporter": "python",
   "pygments_lexer": "ipython3",
   "version": "3.6.2"
  }
 },
 "nbformat": 4,
 "nbformat_minor": 1
}

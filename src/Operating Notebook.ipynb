{
 "cells": [
  {
   "cell_type": "code",
   "execution_count": 6,
   "metadata": {},
   "outputs": [],
   "source": [
    "#SET UP\n",
    "#import sys\n",
    "#sys.path\n",
    "#!{sys.executable} -m pip install pandas\n",
    "#!{sys.executable} -m pip install matplotlib"
   ]
  },
  {
   "cell_type": "code",
   "execution_count": 2,
   "metadata": {
    "scrolled": true
   },
   "outputs": [],
   "source": [
    "import numpy as np\n",
    "import pandas as pd\n",
    "import matplotlib.pyplot as plt\n",
    "from survival import DecayMIRModel\n",
    "from survival import MIRModel"
   ]
  },
  {
   "cell_type": "code",
   "execution_count": 3,
   "metadata": {
    "scrolled": true
   },
   "outputs": [
    {
     "data": {
      "text/html": [
       "<div>\n",
       "<style scoped>\n",
       "    .dataframe tbody tr th:only-of-type {\n",
       "        vertical-align: middle;\n",
       "    }\n",
       "\n",
       "    .dataframe tbody tr th {\n",
       "        vertical-align: top;\n",
       "    }\n",
       "\n",
       "    .dataframe thead th {\n",
       "        text-align: right;\n",
       "    }\n",
       "</style>\n",
       "<table border=\"1\" class=\"dataframe\">\n",
       "  <thead>\n",
       "    <tr style=\"text-align: right;\">\n",
       "      <th></th>\n",
       "      <th>Unnamed: 0</th>\n",
       "      <th>location_id</th>\n",
       "      <th>year_id</th>\n",
       "      <th>sex_id</th>\n",
       "      <th>age_group_id</th>\n",
       "      <th>acause</th>\n",
       "      <th>mi_ratio</th>\n",
       "      <th>life_table_parameter_id</th>\n",
       "      <th>background_mortality</th>\n",
       "      <th>disease_period</th>\n",
       "      <th>slope</th>\n",
       "    </tr>\n",
       "  </thead>\n",
       "  <tbody>\n",
       "    <tr>\n",
       "      <th>0</th>\n",
       "      <td>1</td>\n",
       "      <td>6</td>\n",
       "      <td>1980</td>\n",
       "      <td>1</td>\n",
       "      <td>1</td>\n",
       "      <td>neo_bladder</td>\n",
       "      <td>0.296086</td>\n",
       "      <td>3.0</td>\n",
       "      <td>0.076672</td>\n",
       "      <td>10</td>\n",
       "      <td>0.21</td>\n",
       "    </tr>\n",
       "    <tr>\n",
       "      <th>1</th>\n",
       "      <td>2</td>\n",
       "      <td>6</td>\n",
       "      <td>1980</td>\n",
       "      <td>1</td>\n",
       "      <td>1</td>\n",
       "      <td>neo_brain</td>\n",
       "      <td>0.670154</td>\n",
       "      <td>3.0</td>\n",
       "      <td>0.076672</td>\n",
       "      <td>10</td>\n",
       "      <td>0.21</td>\n",
       "    </tr>\n",
       "    <tr>\n",
       "      <th>2</th>\n",
       "      <td>3</td>\n",
       "      <td>6</td>\n",
       "      <td>1980</td>\n",
       "      <td>1</td>\n",
       "      <td>1</td>\n",
       "      <td>neo_breast</td>\n",
       "      <td>0.486486</td>\n",
       "      <td>3.0</td>\n",
       "      <td>0.076672</td>\n",
       "      <td>10</td>\n",
       "      <td>0.21</td>\n",
       "    </tr>\n",
       "    <tr>\n",
       "      <th>3</th>\n",
       "      <td>4</td>\n",
       "      <td>6</td>\n",
       "      <td>1980</td>\n",
       "      <td>1</td>\n",
       "      <td>1</td>\n",
       "      <td>neo_colorectal</td>\n",
       "      <td>0.560212</td>\n",
       "      <td>3.0</td>\n",
       "      <td>0.076672</td>\n",
       "      <td>10</td>\n",
       "      <td>0.21</td>\n",
       "    </tr>\n",
       "    <tr>\n",
       "      <th>4</th>\n",
       "      <td>5</td>\n",
       "      <td>6</td>\n",
       "      <td>1980</td>\n",
       "      <td>1</td>\n",
       "      <td>1</td>\n",
       "      <td>neo_esophageal</td>\n",
       "      <td>0.701150</td>\n",
       "      <td>3.0</td>\n",
       "      <td>0.076672</td>\n",
       "      <td>10</td>\n",
       "      <td>0.21</td>\n",
       "    </tr>\n",
       "  </tbody>\n",
       "</table>\n",
       "</div>"
      ],
      "text/plain": [
       "   Unnamed: 0  location_id  year_id  sex_id  age_group_id          acause  \\\n",
       "0           1            6     1980       1             1     neo_bladder   \n",
       "1           2            6     1980       1             1       neo_brain   \n",
       "2           3            6     1980       1             1      neo_breast   \n",
       "3           4            6     1980       1             1  neo_colorectal   \n",
       "4           5            6     1980       1             1  neo_esophageal   \n",
       "\n",
       "   mi_ratio  life_table_parameter_id  background_mortality  disease_period  \\\n",
       "0  0.296086                      3.0              0.076672              10   \n",
       "1  0.670154                      3.0              0.076672              10   \n",
       "2  0.486486                      3.0              0.076672              10   \n",
       "3  0.560212                      3.0              0.076672              10   \n",
       "4  0.701150                      3.0              0.076672              10   \n",
       "\n",
       "   slope  \n",
       "0   0.21  \n",
       "1   0.21  \n",
       "2   0.21  \n",
       "3   0.21  \n",
       "4   0.21  "
      ]
     },
     "execution_count": 3,
     "metadata": {},
     "output_type": "execute_result"
    }
   ],
   "source": [
    "#PROCESS INPUTS\n",
    "df = pd.read_csv('/home/j/temp/fed1/2019_mirs_with_background_mortality.csv')\n",
    "\n",
    "#remove NAs and MIR >1\n",
    "df = df.dropna()\n",
    "df = df[df['mi_ratio']<=1]\n",
    "\n",
    "#set model parameters\n",
    "df['disease_period'] = 10\n",
    "df['slope'] = .21\n",
    "\n",
    "df.head()"
   ]
  },
  {
   "cell_type": "code",
   "execution_count": null,
   "metadata": {},
   "outputs": [],
   "source": [
    "#RUN BASE MODEL\n",
    "num_years = 5\n",
    "\n",
    "model = MIRModel(df['mi_ratio'],\n",
    "                 df['other_mortality'],\n",
    "                 disease_period=10)\n",
    "model.compute_excess_mortality()\n",
    "survival_rate = model.get_survival_rate(num_years=num_years)\n",
    "\n",
    "df['excess_mortality_og_mir_model'] = model.excess_mortality\n",
    "df['abs_survival_rate_og_mir_model'] = survival_rate['abs']\n",
    "df['rel_survival_rate_og_mir_model'] = survival_rate['rel']"
   ]
  },
  {
   "cell_type": "code",
   "execution_count": null,
   "metadata": {
    "scrolled": true
   },
   "outputs": [],
   "source": [
    "#RUN DECAY MODEL\n",
    "num_years = 5\n",
    "\n",
    "model = DecayMIRModel(df['mi_ratio'],\n",
    "                 df['other_mortality'],\n",
    "                 df['disease_period'],\n",
    "                 df['slope'])\n",
    "model.compute_base_excess_mortality()\n",
    "survival_rate = model.get_survival_rate(num_years=num_years)\n",
    "\n",
    "df['base_excess_mortality_decay_model'] = model.base_excess_mortality\n",
    "df['abs_survival_rate_decay_model'] = survival_rate['abs']\n",
    "df['rel_survival_rate_decay_model'] = survival_rate['rel']"
   ]
  },
  {
   "cell_type": "code",
   "execution_count": 4,
   "metadata": {},
   "outputs": [],
   "source": [
    "#RUN THREE PARAMETER LOG MODEL\n",
    "parameters = pd.read_csv('/homes/fed1/Survival_Franny/three_parameter_log_form_values_SEER_5_4_2021.csv')\n",
    "\n",
    "# all cause parameters for testing\n",
    "df['a'] = parameters[parameters['cause_name']==\"All Sites\"]\n",
    "\n",
    "# later/ to do: merge in by cause (need acauses)"
   ]
  },
  {
   "cell_type": "code",
   "execution_count": null,
   "metadata": {},
   "outputs": [],
   "source": [
    "#READ IN AND APPEND OLD SURVIVAL PREDICTIONS TO COMPARE"
   ]
  },
  {
   "cell_type": "code",
   "execution_count": null,
   "metadata": {
    "scrolled": true
   },
   "outputs": [],
   "source": [
    "df.head()"
   ]
  },
  {
   "cell_type": "code",
   "execution_count": null,
   "metadata": {},
   "outputs": [],
   "source": [
    "df.to_csv('/home/j/temp/fed1/comparing_new_decay_method_4_28_2021.csv')"
   ]
  }
 ],
 "metadata": {
  "anaconda-cloud": {},
  "kernelspec": {
   "display_name": "Python 3",
   "language": "python",
   "name": "python3"
  },
  "language_info": {
   "codemirror_mode": {
    "name": "ipython",
    "version": 3
   },
   "file_extension": ".py",
   "mimetype": "text/x-python",
   "name": "python",
   "nbconvert_exporter": "python",
   "pygments_lexer": "ipython3",
   "version": "3.6.2"
  }
 },
 "nbformat": 4,
 "nbformat_minor": 1
}

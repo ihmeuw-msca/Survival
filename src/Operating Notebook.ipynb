{
 "cells": [
  {
   "cell_type": "code",
   "execution_count": 8,
   "metadata": {
    "scrolled": true
   },
   "outputs": [
    {
     "ename": "ImportError",
     "evalue": "cannot import name 'AgeSurvivalModel'",
     "output_type": "error",
     "traceback": [
      "\u001b[0;31m---------------------------------------------------------------------------\u001b[0m",
      "\u001b[0;31mImportError\u001b[0m                               Traceback (most recent call last)",
      "\u001b[0;32m<ipython-input-8-651eaf6c52a8>\u001b[0m in \u001b[0;36m<module>\u001b[0;34m\u001b[0m\n\u001b[1;32m      4\u001b[0m \u001b[0;32mfrom\u001b[0m \u001b[0msurvival\u001b[0m \u001b[0;32mimport\u001b[0m \u001b[0mDecayMIRModel\u001b[0m\u001b[0;34m\u001b[0m\u001b[0m\n\u001b[1;32m      5\u001b[0m \u001b[0;32mfrom\u001b[0m \u001b[0msurvival\u001b[0m \u001b[0;32mimport\u001b[0m \u001b[0mMIRModel\u001b[0m\u001b[0;34m\u001b[0m\u001b[0m\n\u001b[0;32m----> 6\u001b[0;31m \u001b[0;32mfrom\u001b[0m \u001b[0msurvival\u001b[0m \u001b[0;32mimport\u001b[0m \u001b[0mAgeSurvivalModel\u001b[0m\u001b[0;34m\u001b[0m\u001b[0m\n\u001b[0m",
      "\u001b[0;31mImportError\u001b[0m: cannot import name 'AgeSurvivalModel'"
     ]
    }
   ],
   "source": [
    "import numpy as np\n",
    "import pandas as pd\n",
    "import matplotlib.pyplot as plt\n",
    "from survival import DecayMIRModel\n",
    "from survival import MIRModel\n",
    "from survival import AgeSurvivalModel\n",
    "from survival import LogFormMIRModel"
   ]
  },
  {
   "cell_type": "markdown",
   "metadata": {},
   "source": [
    "## INPUT DATA"
   ]
  },
  {
   "cell_type": "markdown",
   "metadata": {},
   "source": [
    "### [GBD 2019 MIRs with GBD 2019 background mortality]"
   ]
  },
  {
   "cell_type": "code",
   "execution_count": 2,
   "metadata": {
    "scrolled": true
   },
   "outputs": [
    {
     "data": {
      "text/html": [
       "<div>\n",
       "<style scoped>\n",
       "    .dataframe tbody tr th:only-of-type {\n",
       "        vertical-align: middle;\n",
       "    }\n",
       "\n",
       "    .dataframe tbody tr th {\n",
       "        vertical-align: top;\n",
       "    }\n",
       "\n",
       "    .dataframe thead th {\n",
       "        text-align: right;\n",
       "    }\n",
       "</style>\n",
       "<table border=\"1\" class=\"dataframe\">\n",
       "  <thead>\n",
       "    <tr style=\"text-align: right;\">\n",
       "      <th></th>\n",
       "      <th>Unnamed: 0</th>\n",
       "      <th>location_id</th>\n",
       "      <th>year_id</th>\n",
       "      <th>sex_id</th>\n",
       "      <th>age_group_id</th>\n",
       "      <th>acause</th>\n",
       "      <th>mi_ratio</th>\n",
       "      <th>life_table_parameter_id</th>\n",
       "      <th>background_mortality</th>\n",
       "    </tr>\n",
       "  </thead>\n",
       "  <tbody>\n",
       "    <tr>\n",
       "      <th>0</th>\n",
       "      <td>1</td>\n",
       "      <td>6</td>\n",
       "      <td>1980</td>\n",
       "      <td>1</td>\n",
       "      <td>1</td>\n",
       "      <td>neo_bladder</td>\n",
       "      <td>0.296086</td>\n",
       "      <td>3.0</td>\n",
       "      <td>0.076672</td>\n",
       "    </tr>\n",
       "    <tr>\n",
       "      <th>1</th>\n",
       "      <td>2</td>\n",
       "      <td>6</td>\n",
       "      <td>1980</td>\n",
       "      <td>1</td>\n",
       "      <td>1</td>\n",
       "      <td>neo_brain</td>\n",
       "      <td>0.670154</td>\n",
       "      <td>3.0</td>\n",
       "      <td>0.076672</td>\n",
       "    </tr>\n",
       "    <tr>\n",
       "      <th>2</th>\n",
       "      <td>3</td>\n",
       "      <td>6</td>\n",
       "      <td>1980</td>\n",
       "      <td>1</td>\n",
       "      <td>1</td>\n",
       "      <td>neo_breast</td>\n",
       "      <td>0.486486</td>\n",
       "      <td>3.0</td>\n",
       "      <td>0.076672</td>\n",
       "    </tr>\n",
       "    <tr>\n",
       "      <th>3</th>\n",
       "      <td>4</td>\n",
       "      <td>6</td>\n",
       "      <td>1980</td>\n",
       "      <td>1</td>\n",
       "      <td>1</td>\n",
       "      <td>neo_colorectal</td>\n",
       "      <td>0.560212</td>\n",
       "      <td>3.0</td>\n",
       "      <td>0.076672</td>\n",
       "    </tr>\n",
       "    <tr>\n",
       "      <th>4</th>\n",
       "      <td>5</td>\n",
       "      <td>6</td>\n",
       "      <td>1980</td>\n",
       "      <td>1</td>\n",
       "      <td>1</td>\n",
       "      <td>neo_esophageal</td>\n",
       "      <td>0.701150</td>\n",
       "      <td>3.0</td>\n",
       "      <td>0.076672</td>\n",
       "    </tr>\n",
       "  </tbody>\n",
       "</table>\n",
       "</div>"
      ],
      "text/plain": [
       "   Unnamed: 0  location_id  year_id  sex_id  age_group_id          acause  \\\n",
       "0           1            6     1980       1             1     neo_bladder   \n",
       "1           2            6     1980       1             1       neo_brain   \n",
       "2           3            6     1980       1             1      neo_breast   \n",
       "3           4            6     1980       1             1  neo_colorectal   \n",
       "4           5            6     1980       1             1  neo_esophageal   \n",
       "\n",
       "   mi_ratio  life_table_parameter_id  background_mortality  \n",
       "0  0.296086                      3.0              0.076672  \n",
       "1  0.670154                      3.0              0.076672  \n",
       "2  0.486486                      3.0              0.076672  \n",
       "3  0.560212                      3.0              0.076672  \n",
       "4  0.701150                      3.0              0.076672  "
      ]
     },
     "execution_count": 2,
     "metadata": {},
     "output_type": "execute_result"
    }
   ],
   "source": [
    "#PROCESS INPUTS\n",
    "df = pd.read_csv('/home/j/temp/fed1/2019_mirs_with_background_mortality.csv')\n",
    "\n",
    "#remove NAs and MIR >1\n",
    "df = df.dropna()\n",
    "df = df[df['mi_ratio']<=1]\n",
    "\n",
    "df.head()"
   ]
  },
  {
   "cell_type": "code",
   "execution_count": 5,
   "metadata": {},
   "outputs": [],
   "source": [
    "df = df[df['location_id']==102]"
   ]
  },
  {
   "cell_type": "code",
   "execution_count": 7,
   "metadata": {
    "scrolled": true
   },
   "outputs": [
    {
     "data": {
      "text/html": [
       "<div>\n",
       "<style scoped>\n",
       "    .dataframe tbody tr th:only-of-type {\n",
       "        vertical-align: middle;\n",
       "    }\n",
       "\n",
       "    .dataframe tbody tr th {\n",
       "        vertical-align: top;\n",
       "    }\n",
       "\n",
       "    .dataframe thead th {\n",
       "        text-align: right;\n",
       "    }\n",
       "</style>\n",
       "<table border=\"1\" class=\"dataframe\">\n",
       "  <thead>\n",
       "    <tr style=\"text-align: right;\">\n",
       "      <th></th>\n",
       "      <th>Unnamed: 0</th>\n",
       "      <th>location_id</th>\n",
       "      <th>year_id</th>\n",
       "      <th>sex_id</th>\n",
       "      <th>age_group_id</th>\n",
       "      <th>acause</th>\n",
       "      <th>mi_ratio</th>\n",
       "      <th>life_table_parameter_id</th>\n",
       "      <th>background_mortality</th>\n",
       "      <th>excess_mortality_og_mir_model</th>\n",
       "      <th>abs_survival_rate_og_mir_model</th>\n",
       "      <th>rel_survival_rate_og_mir_model</th>\n",
       "    </tr>\n",
       "  </thead>\n",
       "  <tbody>\n",
       "    <tr>\n",
       "      <th>6605760</th>\n",
       "      <td>6605761</td>\n",
       "      <td>102</td>\n",
       "      <td>1980</td>\n",
       "      <td>1</td>\n",
       "      <td>1</td>\n",
       "      <td>neo_bladder</td>\n",
       "      <td>0.076585</td>\n",
       "      <td>3.0</td>\n",
       "      <td>0.016757</td>\n",
       "      <td>0.008572</td>\n",
       "      <td>0.879610</td>\n",
       "      <td>0.957161</td>\n",
       "    </tr>\n",
       "    <tr>\n",
       "      <th>6605761</th>\n",
       "      <td>6605762</td>\n",
       "      <td>102</td>\n",
       "      <td>1980</td>\n",
       "      <td>1</td>\n",
       "      <td>1</td>\n",
       "      <td>neo_brain</td>\n",
       "      <td>0.346066</td>\n",
       "      <td>3.0</td>\n",
       "      <td>0.016757</td>\n",
       "      <td>0.045421</td>\n",
       "      <td>0.725441</td>\n",
       "      <td>0.789400</td>\n",
       "    </tr>\n",
       "    <tr>\n",
       "      <th>6605762</th>\n",
       "      <td>6605763</td>\n",
       "      <td>102</td>\n",
       "      <td>1980</td>\n",
       "      <td>1</td>\n",
       "      <td>1</td>\n",
       "      <td>neo_breast</td>\n",
       "      <td>0.078844</td>\n",
       "      <td>3.0</td>\n",
       "      <td>0.016757</td>\n",
       "      <td>0.008835</td>\n",
       "      <td>0.878423</td>\n",
       "      <td>0.955870</td>\n",
       "    </tr>\n",
       "    <tr>\n",
       "      <th>6605763</th>\n",
       "      <td>6605764</td>\n",
       "      <td>102</td>\n",
       "      <td>1980</td>\n",
       "      <td>1</td>\n",
       "      <td>1</td>\n",
       "      <td>neo_colorectal</td>\n",
       "      <td>0.267017</td>\n",
       "      <td>3.0</td>\n",
       "      <td>0.016757</td>\n",
       "      <td>0.033277</td>\n",
       "      <td>0.773644</td>\n",
       "      <td>0.841853</td>\n",
       "    </tr>\n",
       "    <tr>\n",
       "      <th>6605764</th>\n",
       "      <td>6605765</td>\n",
       "      <td>102</td>\n",
       "      <td>1980</td>\n",
       "      <td>1</td>\n",
       "      <td>1</td>\n",
       "      <td>neo_esophageal</td>\n",
       "      <td>0.638391</td>\n",
       "      <td>3.0</td>\n",
       "      <td>0.016757</td>\n",
       "      <td>0.108318</td>\n",
       "      <td>0.512690</td>\n",
       "      <td>0.557891</td>\n",
       "    </tr>\n",
       "  </tbody>\n",
       "</table>\n",
       "</div>"
      ],
      "text/plain": [
       "         Unnamed: 0  location_id  year_id  sex_id  age_group_id  \\\n",
       "6605760     6605761          102     1980       1             1   \n",
       "6605761     6605762          102     1980       1             1   \n",
       "6605762     6605763          102     1980       1             1   \n",
       "6605763     6605764          102     1980       1             1   \n",
       "6605764     6605765          102     1980       1             1   \n",
       "\n",
       "                 acause  mi_ratio  life_table_parameter_id  \\\n",
       "6605760     neo_bladder  0.076585                      3.0   \n",
       "6605761       neo_brain  0.346066                      3.0   \n",
       "6605762      neo_breast  0.078844                      3.0   \n",
       "6605763  neo_colorectal  0.267017                      3.0   \n",
       "6605764  neo_esophageal  0.638391                      3.0   \n",
       "\n",
       "         background_mortality  excess_mortality_og_mir_model  \\\n",
       "6605760              0.016757                       0.008572   \n",
       "6605761              0.016757                       0.045421   \n",
       "6605762              0.016757                       0.008835   \n",
       "6605763              0.016757                       0.033277   \n",
       "6605764              0.016757                       0.108318   \n",
       "\n",
       "         abs_survival_rate_og_mir_model  rel_survival_rate_og_mir_model  \n",
       "6605760                        0.879610                        0.957161  \n",
       "6605761                        0.725441                        0.789400  \n",
       "6605762                        0.878423                        0.955870  \n",
       "6605763                        0.773644                        0.841853  \n",
       "6605764                        0.512690                        0.557891  "
      ]
     },
     "execution_count": 7,
     "metadata": {},
     "output_type": "execute_result"
    }
   ],
   "source": [
    "df.head()"
   ]
  },
  {
   "cell_type": "markdown",
   "metadata": {},
   "source": [
    "## I. Base MIR -> Survival Model:"
   ]
  },
  {
   "cell_type": "markdown",
   "metadata": {},
   "source": [
    "#### [M/I = (1-P_s^n)(P_c)/(P_c+P_o)]"
   ]
  },
  {
   "cell_type": "code",
   "execution_count": 6,
   "metadata": {},
   "outputs": [
    {
     "name": "stderr",
     "output_type": "stream",
     "text": [
      "/ihme/homes/fed1/.conda/envs/survival_env/lib/python3.6/site-packages/ipykernel_launcher.py:13: SettingWithCopyWarning: \n",
      "A value is trying to be set on a copy of a slice from a DataFrame.\n",
      "Try using .loc[row_indexer,col_indexer] = value instead\n",
      "\n",
      "See the caveats in the documentation: https://pandas.pydata.org/pandas-docs/stable/user_guide/indexing.html#returning-a-view-versus-a-copy\n",
      "  del sys.path[0]\n",
      "/ihme/homes/fed1/.conda/envs/survival_env/lib/python3.6/site-packages/ipykernel_launcher.py:14: SettingWithCopyWarning: \n",
      "A value is trying to be set on a copy of a slice from a DataFrame.\n",
      "Try using .loc[row_indexer,col_indexer] = value instead\n",
      "\n",
      "See the caveats in the documentation: https://pandas.pydata.org/pandas-docs/stable/user_guide/indexing.html#returning-a-view-versus-a-copy\n",
      "  \n",
      "/ihme/homes/fed1/.conda/envs/survival_env/lib/python3.6/site-packages/ipykernel_launcher.py:15: SettingWithCopyWarning: \n",
      "A value is trying to be set on a copy of a slice from a DataFrame.\n",
      "Try using .loc[row_indexer,col_indexer] = value instead\n",
      "\n",
      "See the caveats in the documentation: https://pandas.pydata.org/pandas-docs/stable/user_guide/indexing.html#returning-a-view-versus-a-copy\n",
      "  from ipykernel import kernelapp as app\n"
     ]
    }
   ],
   "source": [
    "#PARAMETERS\n",
    "num_years = 5\n",
    "disease_pd = 10\n",
    "\n",
    "#RUN BASE MODEL\n",
    "model = MIRModel(df['mi_ratio'],\n",
    "                 df['background_mortality'],\n",
    "                 disease_period=disease_pd)\n",
    "model.compute_excess_mortality()\n",
    "survival_rate = model.get_survival_rate(num_years=num_years)\n",
    "\n",
    "# SAVE IN ORIGINAL DATA FRAME\n",
    "df['excess_mortality_og_mir_model'] = model.excess_mortality\n",
    "df['abs_survival_rate_og_mir_model'] = survival_rate['abs']\n",
    "df['rel_survival_rate_og_mir_model'] = survival_rate['rel']"
   ]
  },
  {
   "cell_type": "markdown",
   "metadata": {},
   "source": [
    "## II. Age Group Extension Model:"
   ]
  },
  {
   "cell_type": "code",
   "execution_count": null,
   "metadata": {},
   "outputs": [],
   "source": [
    "#PARAMETERS\n",
    "num_years = 5\n",
    "\n",
    "# RUN AGE EXTENSION MODEL\n",
    "age_model = AgeSurvivalModel(df)\n",
    "age_model.compute_P_s()\n",
    "\n",
    "# Compute the n year survival in model\n",
    "age_model.compute_n_year_survival(num_years=num_years)\n",
    "\n",
    "# Compile outputs of model into dataframe\n",
    "outputs = age_model.combine_outputs()\n",
    "df.head()\n",
    "\n",
    "# SAVE IN ORIGINAL DATA FRAME\n",
    "?"
   ]
  },
  {
   "cell_type": "markdown",
   "metadata": {},
   "source": [
    "## III. Exponential decay of probability of death model:"
   ]
  },
  {
   "cell_type": "markdown",
   "metadata": {},
   "source": [
    "#### [log(P_c) = mx + b]"
   ]
  },
  {
   "cell_type": "code",
   "execution_count": null,
   "metadata": {
    "scrolled": true
   },
   "outputs": [],
   "source": [
    "# PARAMETERS\n",
    "num_years = 5\n",
    "df['disease_period'] = 10\n",
    "df['slope'] = .21\n",
    "\n",
    "# RUN DECAY MODEL\n",
    "decay_model = DecayMIRModel(df['mi_ratio'],\n",
    "                 df['other_mortality'],\n",
    "                 df['disease_period'],\n",
    "                 df['slope'])\n",
    "decay_model.compute_base_excess_mortality()\n",
    "survival_rate = decay_model.get_survival_rate(num_years=num_years)\n",
    "\n",
    "# SAVE IN ORIGINAL DATA FRAME\n",
    "df['base_excess_mortality_decay_model'] = decay_model.base_excess_mortality\n",
    "df['abs_survival_rate_decay_model'] = survival_rate['abs']\n",
    "df['rel_survival_rate_decay_model'] = survival_rate['rel']"
   ]
  },
  {
   "cell_type": "markdown",
   "metadata": {},
   "source": [
    "## IV. Three parameter decay model:"
   ]
  },
  {
   "cell_type": "markdown",
   "metadata": {},
   "source": [
    "#### [log(P_c) = b*log(1+exp(-(x-a)))+c]"
   ]
  },
  {
   "cell_type": "code",
   "execution_count": null,
   "metadata": {},
   "outputs": [],
   "source": [
    "# PARAMETERS: all cause parameters used for testing\n",
    "parameters = pd.read_csv('/homes/fed1/Survival_Franny/three_parameter_log_form_values_SEER_5_4_2021.csv')\n",
    "df['a'] = parameters[parameters['cause_name']==\"All Sites\"]\n",
    "df['b'] = parameters[parameters['cause_name']==\"All Sites\"]\n",
    "\n",
    "# RUN THREE PARAMETER LOG MODEL\n",
    "\n",
    "\n",
    "# SAVE IN ORIGINAL DATA FRAME\n",
    "?"
   ]
  },
  {
   "cell_type": "markdown",
   "metadata": {},
   "source": [
    "## Comparison to Current GBD Methods"
   ]
  },
  {
   "cell_type": "markdown",
   "metadata": {},
   "source": [
    "#### [Regress on 1-MIR]"
   ]
  },
  {
   "cell_type": "code",
   "execution_count": null,
   "metadata": {},
   "outputs": [],
   "source": [
    "#READ IN AND APPEND OLD SURVIVAL PREDICTIONS TO COMPARE\n",
    "\n"
   ]
  },
  {
   "cell_type": "markdown",
   "metadata": {},
   "source": [
    "## Prediction Scatters"
   ]
  },
  {
   "cell_type": "code",
   "execution_count": null,
   "metadata": {
    "scrolled": true
   },
   "outputs": [],
   "source": [
    "for cancer in df.acause.unique():\n",
    "        \n",
    "        data = df[df['acause']==cancer]\n",
    "\n",
    "        # PLOT\n",
    "        output = function(res_lsq.x, t)\n",
    "        plt.plot(t, y, 'o', markersize=4, label='data')\n",
    "        plt.plot(t, output, label='fitted model')\n",
    "        plt.xlabel(\"t\")\n",
    "        plt.ylabel(\"log_P_c\")\n",
    "        plt.legend(loc='lower right')\n",
    "        plt.title(cancer)#+\": a =\"+str(res_lsq.x[0])+\" b =\"+str(res_lsq.x[1])+\" c =\"+str(res_lsq.x[2]))\n",
    "        plt.show()\n",
    "        \n",
    "        # SAVE\n",
    "        row = pd.DataFrame(data={'cause_name': [cancer],\n",
    "              'a': [res_lsq.x[0]],\n",
    "              'b': [res_lsq.x[1]],\n",
    "              'c': [res_lsq.x[2]]})\n",
    "        print(row)\n",
    "        parameters = parameters.append(row, ignore_index = True)"
   ]
  },
  {
   "cell_type": "code",
   "execution_count": null,
   "metadata": {},
   "outputs": [],
   "source": [
    "df.to_csv('/home/j/temp/fed1/comparing_all_survival_methods_6_1_2021.csv')"
   ]
  }
 ],
 "metadata": {
  "anaconda-cloud": {},
  "kernelspec": {
   "display_name": "Python 3",
   "language": "python",
   "name": "python3"
  },
  "language_info": {
   "codemirror_mode": {
    "name": "ipython",
    "version": 3
   },
   "file_extension": ".py",
   "mimetype": "text/x-python",
   "name": "python",
   "nbconvert_exporter": "python",
   "pygments_lexer": "ipython3",
   "version": "3.6.2"
  }
 },
 "nbformat": 4,
 "nbformat_minor": 1
}

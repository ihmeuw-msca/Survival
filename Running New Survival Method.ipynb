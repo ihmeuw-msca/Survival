{
 "cells": [
  {
   "cell_type": "code",
   "execution_count": null,
   "metadata": {
    "collapsed": false
   },
   "outputs": [],
   "source": [
    "import sys\n",
    "!{sys.executable} -m pip install pandas"
   ]
  },
  {
   "cell_type": "code",
   "execution_count": null,
   "metadata": {
    "collapsed": false,
    "scrolled": true
   },
   "outputs": [],
   "source": [
    "!{sys.executable} -m pip install matplotlib"
   ]
  },
  {
   "cell_type": "code",
   "execution_count": 1,
   "metadata": {
    "collapsed": false
   },
   "outputs": [],
   "source": [
    "import numpy as np\n",
    "import pandas as pd\n",
    "import matplotlib.pyplot as plt\n",
    "from survival import MIRModel"
   ]
  },
  {
   "cell_type": "code",
   "execution_count": 2,
   "metadata": {
    "collapsed": false
   },
   "outputs": [],
   "source": [
    "#Compiled combined MIR dataset\n",
    "#df = pd.read_csv('/home/j/temp/fed1/2019_mirs_with_background_mortality.csv')\n",
    "#df = pd.read_csv('/home/j/temp/fed1/input_file_with_other_mortality_calculated_from_numbers.csv')\n",
    "df = pd.read_csv('/home/j/temp/fed1/all_ages_input_file_with_other_mortality_calculated_from_numbers_20HAQIlocs.csv')\n",
    "\n",
    "# subset the useful rows and columns for the fit\n",
    "selected_columns = [\n",
    "    'acause',\n",
    "    'location_id',\n",
    "    'year_id',\n",
    "    'age_group_id',\n",
    "    'sex_id',\n",
    "    'mi_ratio',\n",
    "    'other_mortality'\n",
    "]\n",
    "df_sub = df.rename(columns={'year_id':'Year'})\n",
    "\n",
    "#remove NAs and MIR >1\n",
    "df_sub = df_sub.dropna()\n",
    "df_sub = df_sub[df_sub['mi_ratio']<=1]"
   ]
  },
  {
   "cell_type": "code",
   "execution_count": null,
   "metadata": {
    "collapsed": false,
    "scrolled": true
   },
   "outputs": [],
   "source": [
    "df_sub.head()"
   ]
  },
  {
   "cell_type": "code",
   "execution_count": null,
   "metadata": {
    "collapsed": false
   },
   "outputs": [],
   "source": [
    "#df_sub_washington = df_sub[df_sub['location_id']==102]"
   ]
  },
  {
   "cell_type": "code",
   "execution_count": 9,
   "metadata": {
    "collapsed": false,
    "scrolled": false
   },
   "outputs": [
    {
     "data": {
      "text/html": [
       "<div>\n",
       "<style scoped>\n",
       "    .dataframe tbody tr th:only-of-type {\n",
       "        vertical-align: middle;\n",
       "    }\n",
       "\n",
       "    .dataframe tbody tr th {\n",
       "        vertical-align: top;\n",
       "    }\n",
       "\n",
       "    .dataframe thead th {\n",
       "        text-align: right;\n",
       "    }\n",
       "</style>\n",
       "<table border=\"1\" class=\"dataframe\">\n",
       "  <thead>\n",
       "    <tr style=\"text-align: right;\">\n",
       "      <th></th>\n",
       "      <th>Unnamed: 0</th>\n",
       "      <th>age_group_id</th>\n",
       "      <th>age_group_name</th>\n",
       "      <th>location_id</th>\n",
       "      <th>location_name</th>\n",
       "      <th>Year</th>\n",
       "      <th>sex_id</th>\n",
       "      <th>acause</th>\n",
       "      <th>cause_name</th>\n",
       "      <th>deaths</th>\n",
       "      <th>cases</th>\n",
       "      <th>total_deaths</th>\n",
       "      <th>non_cancer_deaths</th>\n",
       "      <th>mi_ratio</th>\n",
       "      <th>population</th>\n",
       "      <th>other_mortality</th>\n",
       "      <th>excess_mortality</th>\n",
       "      <th>abs_survival_rate</th>\n",
       "      <th>rel_survival_rate</th>\n",
       "    </tr>\n",
       "  </thead>\n",
       "  <tbody>\n",
       "    <tr>\n",
       "      <th>0</th>\n",
       "      <td>1</td>\n",
       "      <td>22</td>\n",
       "      <td>All Ages</td>\n",
       "      <td>8</td>\n",
       "      <td>Taiwan (Province of China)</td>\n",
       "      <td>1990</td>\n",
       "      <td>1</td>\n",
       "      <td>neo_esophageal</td>\n",
       "      <td>Esophageal cancer</td>\n",
       "      <td>740.575618</td>\n",
       "      <td>781.511588</td>\n",
       "      <td>63577.367257</td>\n",
       "      <td>62836.791639</td>\n",
       "      <td>0.947619</td>\n",
       "      <td>1.054138e+07</td>\n",
       "      <td>0.005961</td>\n",
       "      <td>0.210843</td>\n",
       "      <td>0.294682</td>\n",
       "      <td>0.303624</td>\n",
       "    </tr>\n",
       "    <tr>\n",
       "      <th>20966</th>\n",
       "      <td>20967</td>\n",
       "      <td>22</td>\n",
       "      <td>All Ages</td>\n",
       "      <td>99</td>\n",
       "      <td>Uruguay</td>\n",
       "      <td>1990</td>\n",
       "      <td>2</td>\n",
       "      <td>neo_hodgkins</td>\n",
       "      <td>Hodgkin lymphoma</td>\n",
       "      <td>10.641065</td>\n",
       "      <td>20.238370</td>\n",
       "      <td>13389.296969</td>\n",
       "      <td>13378.655904</td>\n",
       "      <td>0.525787</td>\n",
       "      <td>1.612822e+06</td>\n",
       "      <td>0.008295</td>\n",
       "      <td>0.052394</td>\n",
       "      <td>0.731219</td>\n",
       "      <td>0.762316</td>\n",
       "    </tr>\n",
       "    <tr>\n",
       "      <th>31393</th>\n",
       "      <td>31394</td>\n",
       "      <td>22</td>\n",
       "      <td>All Ages</td>\n",
       "      <td>123</td>\n",
       "      <td>Peru</td>\n",
       "      <td>1990</td>\n",
       "      <td>2</td>\n",
       "      <td>neo_nasopharynx</td>\n",
       "      <td>Nasopharynx cancer</td>\n",
       "      <td>8.101141</td>\n",
       "      <td>8.529796</td>\n",
       "      <td>62782.579709</td>\n",
       "      <td>62774.478568</td>\n",
       "      <td>0.949746</td>\n",
       "      <td>1.091683e+07</td>\n",
       "      <td>0.005750</td>\n",
       "      <td>0.213063</td>\n",
       "      <td>0.290920</td>\n",
       "      <td>0.299430</td>\n",
       "    </tr>\n",
       "    <tr>\n",
       "      <th>31394</th>\n",
       "      <td>31395</td>\n",
       "      <td>22</td>\n",
       "      <td>All Ages</td>\n",
       "      <td>123</td>\n",
       "      <td>Peru</td>\n",
       "      <td>1990</td>\n",
       "      <td>2</td>\n",
       "      <td>neo_otherpharynx</td>\n",
       "      <td>Other pharynx cancer</td>\n",
       "      <td>17.095325</td>\n",
       "      <td>18.248387</td>\n",
       "      <td>62782.579709</td>\n",
       "      <td>62765.484384</td>\n",
       "      <td>0.936813</td>\n",
       "      <td>1.091683e+07</td>\n",
       "      <td>0.005749</td>\n",
       "      <td>0.193909</td>\n",
       "      <td>0.328380</td>\n",
       "      <td>0.337985</td>\n",
       "    </tr>\n",
       "    <tr>\n",
       "      <th>31395</th>\n",
       "      <td>31396</td>\n",
       "      <td>22</td>\n",
       "      <td>All Ages</td>\n",
       "      <td>123</td>\n",
       "      <td>Peru</td>\n",
       "      <td>1990</td>\n",
       "      <td>2</td>\n",
       "      <td>neo_gallbladder</td>\n",
       "      <td>Gallbladder and biliary tract cancer</td>\n",
       "      <td>367.675789</td>\n",
       "      <td>383.610925</td>\n",
       "      <td>62782.579709</td>\n",
       "      <td>62414.903920</td>\n",
       "      <td>0.958460</td>\n",
       "      <td>1.091683e+07</td>\n",
       "      <td>0.005717</td>\n",
       "      <td>0.230043</td>\n",
       "      <td>0.260704</td>\n",
       "      <td>0.268286</td>\n",
       "    </tr>\n",
       "  </tbody>\n",
       "</table>\n",
       "</div>"
      ],
      "text/plain": [
       "       Unnamed: 0  age_group_id age_group_name  location_id  \\\n",
       "0               1            22       All Ages            8   \n",
       "20966       20967            22       All Ages           99   \n",
       "31393       31394            22       All Ages          123   \n",
       "31394       31395            22       All Ages          123   \n",
       "31395       31396            22       All Ages          123   \n",
       "\n",
       "                    location_name  Year  sex_id            acause  \\\n",
       "0      Taiwan (Province of China)  1990       1    neo_esophageal   \n",
       "20966                     Uruguay  1990       2      neo_hodgkins   \n",
       "31393                        Peru  1990       2   neo_nasopharynx   \n",
       "31394                        Peru  1990       2  neo_otherpharynx   \n",
       "31395                        Peru  1990       2   neo_gallbladder   \n",
       "\n",
       "                                 cause_name      deaths       cases  \\\n",
       "0                         Esophageal cancer  740.575618  781.511588   \n",
       "20966                      Hodgkin lymphoma   10.641065   20.238370   \n",
       "31393                    Nasopharynx cancer    8.101141    8.529796   \n",
       "31394                  Other pharynx cancer   17.095325   18.248387   \n",
       "31395  Gallbladder and biliary tract cancer  367.675789  383.610925   \n",
       "\n",
       "       total_deaths  non_cancer_deaths  mi_ratio    population  \\\n",
       "0      63577.367257       62836.791639  0.947619  1.054138e+07   \n",
       "20966  13389.296969       13378.655904  0.525787  1.612822e+06   \n",
       "31393  62782.579709       62774.478568  0.949746  1.091683e+07   \n",
       "31394  62782.579709       62765.484384  0.936813  1.091683e+07   \n",
       "31395  62782.579709       62414.903920  0.958460  1.091683e+07   \n",
       "\n",
       "       other_mortality  excess_mortality  abs_survival_rate  rel_survival_rate  \n",
       "0             0.005961          0.210843           0.294682           0.303624  \n",
       "20966         0.008295          0.052394           0.731219           0.762316  \n",
       "31393         0.005750          0.213063           0.290920           0.299430  \n",
       "31394         0.005749          0.193909           0.328380           0.337985  \n",
       "31395         0.005717          0.230043           0.260704           0.268286  "
      ]
     },
     "execution_count": 9,
     "metadata": {},
     "output_type": "execute_result"
    }
   ],
   "source": [
    "#Input disease_period (n) and num_year survival desired ¶\n",
    "disease_period = 15\n",
    "num_years = 5\n",
    "\n",
    "model = MIRModel(df_sub['mi_ratio'],\n",
    "                 df_sub['other_mortality'],\n",
    "                 disease_period=disease_period)\n",
    "model.compute_excess_mortality()\n",
    "survival_rate = model.get_survival_rate(num_years=num_years)\n",
    "\n",
    "df_sub['excess_mortality'] = model.excess_mortality\n",
    "df_sub['abs_survival_rate'] = survival_rate['abs']\n",
    "df_sub['rel_survival_rate'] = survival_rate['rel']\n",
    "df_sub.sort_values('Year', inplace=True)\n",
    "\n",
    "# Print head of data for check\n",
    "df_sub.head()"
   ]
  },
  {
   "cell_type": "code",
   "execution_count": 10,
   "metadata": {
    "collapsed": true
   },
   "outputs": [],
   "source": [
    "df_sub.to_csv('/home/j/temp/fed1/new_methods_all_ages_predictions_20HAQIlocs_using_2019_inputs_and_direct_P_o_calc_disease_pd_15_num_years_5_all_years.csv')"
   ]
  }
 ],
 "metadata": {
  "anaconda-cloud": {},
  "kernelspec": {
   "display_name": "Python [conda env:survival_env]",
   "language": "python",
   "name": "conda-env-survival_env-py"
  },
  "language_info": {
   "codemirror_mode": {
    "name": "ipython",
    "version": 3
   },
   "file_extension": ".py",
   "mimetype": "text/x-python",
   "name": "python",
   "nbconvert_exporter": "python",
   "pygments_lexer": "ipython3",
   "version": "3.6.2"
  }
 },
 "nbformat": 4,
 "nbformat_minor": 1
}

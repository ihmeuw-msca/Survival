{
 "cells": [
  {
   "cell_type": "code",
   "execution_count": null,
   "metadata": {
    "collapsed": false
   },
   "outputs": [],
   "source": [
    "# package installation if necessary\n",
    "import sys\n",
    "!{sys.executable} -m pip install pandas\n",
    "!{sys.executable} -m pip install matplotlib"
   ]
  },
  {
   "cell_type": "code",
   "execution_count": null,
   "metadata": {
    "collapsed": false
   },
   "outputs": [],
   "source": [
    "import numpy as np\n",
    "import pandas as pd\n",
    "import matplotlib.pyplot as plt\n",
    "from survival import MIRModel"
   ]
  },
  {
   "cell_type": "code",
   "execution_count": null,
   "metadata": {
    "collapsed": false
   },
   "outputs": [],
   "source": [
    "# INPUT DATA\n",
    "df = pd.read_csv('/home/j/temp/fed1/all_ages_input_file_with_other_mortality_calculated_from_numbers_20HAQIlocs.csv')\n",
    "\n",
    "# subset the useful rows and columns for the fit\n",
    "selected_columns = [\n",
    "    'acause',\n",
    "    'location_id',\n",
    "    'year_id',\n",
    "    'age_group_id',\n",
    "    'sex_id',\n",
    "    'mi_ratio',\n",
    "    'other_mortality'\n",
    "]\n",
    "df_sub = df.rename(columns={'year_id':'Year'})\n",
    "\n",
    "# remove NAs and MIR >1\n",
    "df_sub = df_sub.dropna()\n",
    "df_sub = df_sub[df_sub['mi_ratio']<=1]"
   ]
  },
  {
   "cell_type": "code",
   "execution_count": null,
   "metadata": {
    "collapsed": false,
    "scrolled": true
   },
   "outputs": [],
   "source": [
    "# CHECK data\n",
    "df_sub.head()"
   ]
  },
  {
   "cell_type": "code",
   "execution_count": null,
   "metadata": {
    "collapsed": false,
    "scrolled": false
   },
   "outputs": [],
   "source": [
    "# Input disease_period (n) and num_year survival desired ¶\n",
    "disease_period = 15\n",
    "num_years = 5\n",
    "\n",
    "# RUN MODEL on inputs\n",
    "model = MIRModel(df_sub['mi_ratio'],\n",
    "                 df_sub['other_mortality'],\n",
    "                 disease_period=disease_period)\n",
    "model.compute_excess_mortality()\n",
    "survival_rate = model.get_survival_rate(num_years=num_years)\n",
    "\n",
    "df_sub['excess_mortality'] = model.excess_mortality\n",
    "df_sub['abs_survival_rate'] = survival_rate['abs']\n",
    "df_sub['rel_survival_rate'] = survival_rate['rel']\n",
    "df_sub.sort_values('Year', inplace=True)\n",
    "\n",
    "# Print head of data for check\n",
    "df_sub.head()"
   ]
  },
  {
   "cell_type": "code",
   "execution_count": null,
   "metadata": {
    "collapsed": true
   },
   "outputs": [],
   "source": [
    "# SAVE OUTPUTS\n",
    "df_sub.to_csv('/home/j/temp/fed1/new_methods_all_ages_predictions_20HAQIlocs_using_2019_inputs_and_direct_P_o_calc_disease_pd_15_num_years_5_all_years.csv')"
   ]
  }
 ],
 "metadata": {
  "anaconda-cloud": {},
  "kernelspec": {
   "display_name": "Python [conda env:survival_env]",
   "language": "python",
   "name": "conda-env-survival_env-py"
  },
  "language_info": {
   "codemirror_mode": {
    "name": "ipython",
    "version": 3
   },
   "file_extension": ".py",
   "mimetype": "text/x-python",
   "name": "python",
   "nbconvert_exporter": "python",
   "pygments_lexer": "ipython3",
   "version": "3.6.2"
  }
 },
 "nbformat": 4,
 "nbformat_minor": 1
}

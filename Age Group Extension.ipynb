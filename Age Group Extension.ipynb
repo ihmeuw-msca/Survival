{
 "cells": [
  {
   "cell_type": "code",
   "execution_count": 1,
   "metadata": {
    "collapsed": false
   },
   "outputs": [],
   "source": [
    "%load_ext autoreload\n",
    "%autoreload 2\n",
    "%reload_ext autoreload"
   ]
  },
  {
   "cell_type": "code",
   "execution_count": 2,
   "metadata": {
    "collapsed": false,
    "scrolled": true
   },
   "outputs": [],
   "source": [
    "import numpy as np\n",
    "import pandas as pd\n",
    "import matplotlib.pyplot as plt\n",
    "from survival import MIRModel"
   ]
  },
  {
   "cell_type": "code",
   "execution_count": 3,
   "metadata": {
    "collapsed": false,
    "scrolled": true
   },
   "outputs": [],
   "source": [
    "from survival.age_group_extension import AgeSurvivalModel"
   ]
  },
  {
   "cell_type": "code",
   "execution_count": 4,
   "metadata": {
    "collapsed": false
   },
   "outputs": [],
   "source": [
    "#df_inputs = pd.read_csv('/home/j/temp/fed1/input_file_with_other_mortality_calculated_from_numbers.csv')\n",
    "df_inputs = pd.read_csv('/home/j/temp/fed1/concord_locs_all_cancers_inputs_fixed_mirs.csv')"
   ]
  },
  {
   "cell_type": "code",
   "execution_count": 5,
   "metadata": {
    "collapsed": false
   },
   "outputs": [
    {
     "data": {
      "text/plain": [
       "array([  1,   6,   7,   8,   9,  10,  11,  12,  13,  14,  15,  16,  17,\n",
       "        18,  19,  20,  30,  31,  32, 235])"
      ]
     },
     "execution_count": 5,
     "metadata": {},
     "output_type": "execute_result"
    }
   ],
   "source": [
    "pd.set_option('display.max_rows', None)\n",
    "df_inputs.age_group_id.unique()"
   ]
  },
  {
   "cell_type": "code",
   "execution_count": null,
   "metadata": {
    "collapsed": false
   },
   "outputs": [],
   "source": [
    "#df_inputs = df_inputs[df_inputs['age_group_id']!=5]\n",
    "#df_inputs = df_inputs[df_inputs['age_group_id']!=22]"
   ]
  },
  {
   "cell_type": "code",
   "execution_count": null,
   "metadata": {
    "collapsed": false
   },
   "outputs": [],
   "source": []
  },
  {
   "cell_type": "code",
   "execution_count": null,
   "metadata": {
    "collapsed": false
   },
   "outputs": [],
   "source": []
  },
  {
   "cell_type": "code",
   "execution_count": 9,
   "metadata": {
    "collapsed": false
   },
   "outputs": [],
   "source": [
    "model = AgeSurvivalModel(df_inputs[df_inputs['location_id']==102])"
   ]
  },
  {
   "cell_type": "code",
   "execution_count": 10,
   "metadata": {
    "collapsed": false,
    "scrolled": true
   },
   "outputs": [],
   "source": [
    "model.compute_P_s()"
   ]
  },
  {
   "cell_type": "code",
   "execution_count": 14,
   "metadata": {
    "collapsed": false
   },
   "outputs": [],
   "source": [
    "model.compute_n_year_survival(num_years=5)"
   ]
  },
  {
   "cell_type": "code",
   "execution_count": 15,
   "metadata": {
    "collapsed": true
   },
   "outputs": [],
   "source": [
    "df = model.combine_outputs()"
   ]
  },
  {
   "cell_type": "code",
   "execution_count": 16,
   "metadata": {
    "collapsed": false,
    "scrolled": true
   },
   "outputs": [
    {
     "data": {
      "text/html": [
       "<div>\n",
       "<style scoped>\n",
       "    .dataframe tbody tr th:only-of-type {\n",
       "        vertical-align: middle;\n",
       "    }\n",
       "\n",
       "    .dataframe tbody tr th {\n",
       "        vertical-align: top;\n",
       "    }\n",
       "\n",
       "    .dataframe thead th {\n",
       "        text-align: right;\n",
       "    }\n",
       "</style>\n",
       "<table border=\"1\" class=\"dataframe\">\n",
       "  <thead>\n",
       "    <tr style=\"text-align: right;\">\n",
       "      <th></th>\n",
       "      <th>age_group_id</th>\n",
       "      <th>location_id</th>\n",
       "      <th>other_mortality</th>\n",
       "      <th>sex_id</th>\n",
       "      <th>acause</th>\n",
       "      <th>year_id</th>\n",
       "      <th>mi_ratio</th>\n",
       "      <th>P_c</th>\n",
       "      <th>P_s</th>\n",
       "      <th>abs_survival</th>\n",
       "      <th>rel_survival</th>\n",
       "      <th>UID</th>\n",
       "    </tr>\n",
       "  </thead>\n",
       "  <tbody>\n",
       "    <tr>\n",
       "      <th>0</th>\n",
       "      <td>1</td>\n",
       "      <td>102</td>\n",
       "      <td>0.001848</td>\n",
       "      <td>1</td>\n",
       "      <td>neo_bone</td>\n",
       "      <td>2002</td>\n",
       "      <td>0.232213</td>\n",
       "      <td>0.051689</td>\n",
       "      <td>0.946463</td>\n",
       "      <td>0.759484</td>\n",
       "      <td>0.766541</td>\n",
       "      <td>102 2002 1 neo_bone</td>\n",
       "    </tr>\n",
       "    <tr>\n",
       "      <th>1</th>\n",
       "      <td>6</td>\n",
       "      <td>102</td>\n",
       "      <td>0.000164</td>\n",
       "      <td>1</td>\n",
       "      <td>neo_bone</td>\n",
       "      <td>2002</td>\n",
       "      <td>0.232213</td>\n",
       "      <td>0.006798</td>\n",
       "      <td>0.993038</td>\n",
       "      <td>0.965672</td>\n",
       "      <td>0.966463</td>\n",
       "      <td>102 2002 1 neo_bone</td>\n",
       "    </tr>\n",
       "    <tr>\n",
       "      <th>2</th>\n",
       "      <td>7</td>\n",
       "      <td>102</td>\n",
       "      <td>0.000227</td>\n",
       "      <td>1</td>\n",
       "      <td>neo_bone</td>\n",
       "      <td>2002</td>\n",
       "      <td>0.232213</td>\n",
       "      <td>0.005410</td>\n",
       "      <td>0.994363</td>\n",
       "      <td>0.972131</td>\n",
       "      <td>0.973235</td>\n",
       "      <td>102 2002 1 neo_bone</td>\n",
       "    </tr>\n",
       "    <tr>\n",
       "      <th>3</th>\n",
       "      <td>8</td>\n",
       "      <td>102</td>\n",
       "      <td>0.000924</td>\n",
       "      <td>1</td>\n",
       "      <td>neo_bone</td>\n",
       "      <td>2002</td>\n",
       "      <td>0.232213</td>\n",
       "      <td>0.007240</td>\n",
       "      <td>0.991836</td>\n",
       "      <td>0.959841</td>\n",
       "      <td>0.964288</td>\n",
       "      <td>102 2002 1 neo_bone</td>\n",
       "    </tr>\n",
       "    <tr>\n",
       "      <th>4</th>\n",
       "      <td>9</td>\n",
       "      <td>102</td>\n",
       "      <td>0.001434</td>\n",
       "      <td>1</td>\n",
       "      <td>neo_bone</td>\n",
       "      <td>2002</td>\n",
       "      <td>0.453751</td>\n",
       "      <td>0.036298</td>\n",
       "      <td>0.962268</td>\n",
       "      <td>0.825051</td>\n",
       "      <td>0.830991</td>\n",
       "      <td>102 2002 1 neo_bone</td>\n",
       "    </tr>\n",
       "  </tbody>\n",
       "</table>\n",
       "</div>"
      ],
      "text/plain": [
       "   age_group_id  location_id  other_mortality  sex_id    acause  year_id  \\\n",
       "0             1          102         0.001848       1  neo_bone     2002   \n",
       "1             6          102         0.000164       1  neo_bone     2002   \n",
       "2             7          102         0.000227       1  neo_bone     2002   \n",
       "3             8          102         0.000924       1  neo_bone     2002   \n",
       "4             9          102         0.001434       1  neo_bone     2002   \n",
       "\n",
       "   mi_ratio       P_c       P_s  abs_survival  rel_survival  \\\n",
       "0  0.232213  0.051689  0.946463      0.759484      0.766541   \n",
       "1  0.232213  0.006798  0.993038      0.965672      0.966463   \n",
       "2  0.232213  0.005410  0.994363      0.972131      0.973235   \n",
       "3  0.232213  0.007240  0.991836      0.959841      0.964288   \n",
       "4  0.453751  0.036298  0.962268      0.825051      0.830991   \n",
       "\n",
       "                   UID  \n",
       "0  102 2002 1 neo_bone  \n",
       "1  102 2002 1 neo_bone  \n",
       "2  102 2002 1 neo_bone  \n",
       "3  102 2002 1 neo_bone  \n",
       "4  102 2002 1 neo_bone  "
      ]
     },
     "execution_count": 16,
     "metadata": {},
     "output_type": "execute_result"
    }
   ],
   "source": [
    "df.head()"
   ]
  },
  {
   "cell_type": "code",
   "execution_count": 17,
   "metadata": {
    "collapsed": true
   },
   "outputs": [],
   "source": [
    "df.to_csv('/home/j/temp/fed1/age_group_extension_test.csv')"
   ]
  }
 ],
 "metadata": {
  "anaconda-cloud": {},
  "kernelspec": {
   "display_name": "Python [conda env:survival_env]",
   "language": "python",
   "name": "conda-env-survival_env-py"
  },
  "language_info": {
   "codemirror_mode": {
    "name": "ipython",
    "version": 3
   },
   "file_extension": ".py",
   "mimetype": "text/x-python",
   "name": "python",
   "nbconvert_exporter": "python",
   "pygments_lexer": "ipython3",
   "version": "3.6.2"
  }
 },
 "nbformat": 4,
 "nbformat_minor": 1
}
